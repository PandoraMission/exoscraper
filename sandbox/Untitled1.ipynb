{
 "cells": [
  {
   "cell_type": "code",
   "execution_count": 624,
   "id": "5b9fec49-bfe6-47de-b3b9-a8aead18d297",
   "metadata": {},
   "outputs": [],
   "source": [
    "from dataclasses import dataclass\n",
    "from astroquery.ipac.nexsci.nasa_exoplanet_archive import NasaExoplanetArchive\n",
    "import astropy.units as u\n",
    "from astropy.constants import G\n",
    "from functools import lru_cache\n",
    "import numpy as np\n",
    "from bs4 import BeautifulSoup\n",
    "import requests\n",
    "from types import MethodType\n",
    "import pandas as pd\n",
    "from copy import deepcopy\n",
    "\n",
    "@lru_cache\n",
    "def get_nexsci_tab(name):\n",
    "    \"\"\"LRU Cached helper to get the composite entry for a given name\"\"\"\n",
    "    return NasaExoplanetArchive.query_object(name, table='pscomppars')\n",
    "\n",
    "@lru_cache\n",
    "def get_citation(bibcode):\n",
    "    \"\"\"Goes to NASA ADS and webscrapes the bibtex citation for a give bibcode\"\"\"\n",
    "    d = requests.get(f'https://ui.adsabs.harvard.edu/abs/{bibcode}/exportcitation')\n",
    "    soup = BeautifulSoup(d.content, 'html.parser')\n",
    "    return soup.find('textarea').text\n",
    "\n",
    "def get_ref_dict(tab):\n",
    "    \"\"\"Parses the NExSci table for a list of references\"\"\"\n",
    "    cols = [c for c in tab.columns if 'reflink' in c]\n",
    "    refs = np.unique(tab[cols])[0]\n",
    "    result = {ref.split('>')[1].split('</a')[0].strip(): ref.split('href=')[1].split(' target=ref')[0] for ref in refs if ref != ''}\n",
    "    for key, item in result.items():\n",
    "        if 'ui.adsabs' in item.lower():\n",
    "            result[key] = get_citation(item.split('abs/')[1].split('/')[0])\n",
    "    return result"
   ]
  },
  {
   "cell_type": "code",
   "execution_count": 519,
   "id": "05af4896-b1b2-4757-a40d-0dfe779ce9ed",
   "metadata": {},
   "outputs": [],
   "source": [
    "class Planet(object):\n",
    "    \"\"\"Helper class to get information from NExSci. This class only holds and prints information, it doesn't calculate anything.\"\"\"\n",
    "    \n",
    "    def __init__(self, hostname:str, letter:str='b'):\n",
    "        self.hostname = hostname\n",
    "        self.letter = letter\n",
    "        tab = get_nexsci_tab(hostname)\n",
    "        tab = tab[tab['pl_letter'] == letter]\n",
    "        if len(tab) == 0:\n",
    "            raise ValueError('No planet found')\n",
    "        self._tab = tab[0]\n",
    "        _ = [setattr(self, c, self._tab[c].filled(np.nan) if isinstance(self._tab[c], u.Quantity) else u.Quantity(self._tab[c]))\n",
    "                 if isinstance(self._tab[c], (u.Quantity, float, int)) else setattr(self, c, self._tab[c])\n",
    "             for c in list(self._tab.columns) if not (c.endswith('err1') | c.endswith('err2') | c.endswith('reflink') | c.endswith('lim') | c.endswith('str'))]\n",
    "        # Error on the archive that the unit is days not hours...!\n",
    "        if (self.pl_trandur.unit == u.day):\n",
    "            self.pl_trandur /= 24    \n",
    "\n",
    "        for c in self._tab.columns:\n",
    "            if c.endswith('reflink'):\n",
    "                attr = getattr(self, '_'.join(c.split('_')[:-1]))\n",
    "                if isinstance(attr, u.Quantity):\n",
    "                    if self._tab[c] != '':\n",
    "                        ref = self._tab[c].split('href=')[1].split(' target=ref')[0]\n",
    "                        if 'ui.adsabs' in ref.lower():\n",
    "                            ref = get_citation(ref.split('abs/')[1].split('/')[0])\n",
    "                            setattr(attr, 'reference', ref)\n",
    "                            setattr(attr, 'reference_name', ref.split('{')[1].split(',')[0])\n",
    "                            setattr(attr, 'reference_link', ref.split('adsurl = {')[1].split('}')[0])\n",
    "            if c.endswith('err1'):\n",
    "                attr = getattr(self, c[:-4])\n",
    "                if isinstance(attr, u.Quantity):\n",
    "                    if self._tab[c] != '':\n",
    "                        setattr(attr, 'err1', u.Quantity(self._tab[c[:-4] + 'err1']))\n",
    "                        setattr(attr, 'err2', u.Quantity(self._tab[c[:-4] + 'err2']))\n",
    "                        setattr(attr, 'err', u.Quantity([self._tab[c[:-4] + 'err1'], -self._tab[c[:-4] + 'err2']]).mean())\n",
    "                    else:\n",
    "                        setattr(self._tab[c], 'err', np.nan*self._tab[c].unit)\n",
    "            if c.endswith('lim'):\n",
    "                # Any \"limit\" parameters need to be set to nans\n",
    "                if self._tab[c] == 1:\n",
    "                    attr = getattr(self, c[:-3])\n",
    "                    attr *= np.nan\n",
    "                    for e in ['err1', 'err2', 'err']:\n",
    "                        if hasattr(attr, e):\n",
    "                            setattr(attr, e, getattr(attr, e) * np.nan)\n",
    "        self._fix_eorj()\n",
    "        self._fix_orbsmax()\n",
    "        self._fix_ratdor()\n",
    "        self._fix_ratror()\n",
    "        self._fix_eqt()\n",
    "        self.references = get_ref_dict(self._tab)\n",
    "        self.acknowledgements = ['This research has made use of the NASA Exoplanet Archive, which is operated by the California Institute of Technology, under contract with the National Aeronautics and Space Administration under the Exoplanet Exploration Program.']\n",
    "\n",
    "    @property\n",
    "    def name(self):\n",
    "        return self.hostname + self.letter\n",
    "    \n",
    "    def _fix_eorj(self):\n",
    "        if np.isfinite(self.pl_bmasse) ^ np.isfinite(self.pl_bmassj):\n",
    "            if np.isfinite(self.pl_bmasse):\n",
    "                self.pl_bmassj = self.pl_bmasse.to(u.jupiterMass)\n",
    "                for e in ['err1', 'err2', 'err']:\n",
    "                    if hasattr(self.pl_bmasse, e):\n",
    "                        setattr(self.pl_bmassj, e, getattr(self.pl_bmasse, e).to(u.jupiterMass))\n",
    "                self.pl_bmassj.reference = self.pl_bmasse.reference\n",
    "            else:\n",
    "                self.pl_bmasse = self.pl_bmassj.to(u.earthMass)\n",
    "                for e in ['err1', 'err2', 'err']:\n",
    "                    if hasattr(self.pl_bmassj, e):\n",
    "                        setattr(self.pl_bmasse, e, getattr(self.pl_bmassj, e).to(u.earthMass))\n",
    "                self.pl_bmasse.reference = self.pl_bmassj.reference\n",
    "                \n",
    "        if np.isfinite(self.pl_rade) ^ np.isfinite(self.pl_radj):\n",
    "            if np.isfinite(self.pl_rade):\n",
    "                self.pl_radj = self.pl_rade.to(u.jupiterRad)\n",
    "                for e in ['err1', 'err2', 'err']:\n",
    "                    if hasattr(self.pl_rade, e):\n",
    "                        setattr(self.pl_radj, e, getattr(self.pl_rade, e).to(u.jupiterRad))        \n",
    "            else:\n",
    "                self.pl_rade = self.pl_radj.to(u.earthRad)\n",
    "                for e in ['err1', 'err2', 'err']:\n",
    "                    if hasattr(self.pl_radj, e):\n",
    "                        setattr(self.pl_rade, e, getattr(self.pl_radj, e).to(u.earthRad))\n",
    "                \n",
    "    \n",
    "    def _fix_orbsmax(self):\n",
    "        if not np.isfinite(self.pl_orbsmax):\n",
    "            a = u.Quantity((((G * self.st_mass)/(4*np.pi) * self.pl_orbper**2)**(1/3)).to(u.AU))\n",
    "            a.err = ((self.st_mass.err/self.st_mass)**2 + (self.pl_orbper.err/self.pl_orbper)**2)**0.5 * a\n",
    "            a.reference = 'Calculated'\n",
    "            self.pl_orbsmax = a\n",
    "            \n",
    "    def _fix_ratdor(self):\n",
    "        if not np.isfinite(self.pl_ratdor):\n",
    "            q = u.Quantity(self.pl_orbsmax.to(u.AU)/self.st_rad.to(u.AU))\n",
    "            q.err = (((self.pl_orbsmax.err/self.pl_orbsmax)**2 + (self.st_rad.err/self.st_rad)**2))**0.5 * q\n",
    "            q.reference = 'Calculated'\n",
    "            self.pl_ratdor = q\n",
    "\n",
    "    def _fix_eqt(self):\n",
    "        if not np.isfinite(self.pl_eqt):\n",
    "            # Assume albedo is 1\n",
    "            eqt = self.st_teff * np.sqrt(0.5 * 1/self.pl_ratdor)\n",
    "            eqt.err = (self.st_teff + self.st_teff.err) * np.sqrt(0.5 * 1/(self.pl_ratdor - self.pl_ratdor.err)) - eqt\n",
    "            eqt.reference = 'Calculated'\n",
    "            self.pl_eqt = eqt\n",
    "\n",
    "    def _fix_ratror(self):\n",
    "        if not np.isfinite(self.pl_ratror):\n",
    "            r = self.pl_rade.to(u.solRad)/self.st_rad.to(u.solRad)\n",
    "            r.err = ((self.pl_rade.err/self.pl_rade)**2 + (self.st_rad.err/self.st_rad)**2)**0.5 * r\n",
    "            self.pl_ratror = r\n",
    "        \n",
    "    def __repr__(self):\n",
    "         return self.hostname + self.letter\n",
    "\n",
    "    @property\n",
    "    def StarParametersTable(self):\n",
    "        d = pd.DataFrame(columns=['Value', 'Description', 'Reference'])\n",
    "        for key, symbol, desc in zip(['st_rad', 'st_mass', 'st_age', 'st_logg'],\n",
    "                                     ['R', 'M', 'Age', 'logg'],\n",
    "                                     ['Stellar Radius', 'Stellar Mass', \"Stellar Age\", \"Stellar Gravity\"]):\n",
    "            attr = getattr(self, key)\n",
    "            if np.isfinite(attr):\n",
    "                d.loc[symbol, 'Value'] = \"{0}^{{{1}}}_{{{2}}}\".format(attr.to_string(format='latex'), attr.err1.value, attr.err2.value)\n",
    "                d.loc[symbol, 'Description'] = desc\n",
    "                d.loc[symbol, 'Reference'] = f\"\\\\cite{{{attr.reference_name}}}\"\n",
    "        return d\n",
    "\n",
    "    @property\n",
    "    def StarParametersTableLatex(self):\n",
    "        print(self.StarParametersTable.to_latex(caption=f'Stellar Parameters for {self.hostname}', label='tab:stellarparams'))\n",
    "\n",
    "\n",
    "    @property\n",
    "    def PlanetParametersTable(self):\n",
    "        d = pd.DataFrame(columns=['Value', 'Description', 'Reference'])\n",
    "        for key, symbol, desc in zip(['pl_radj', 'pl_bmassj', 'pl_orbper', 'pl_tranmid'],\n",
    "                                     ['R', 'M', 'P', 'T_0'],\n",
    "                                     ['Planet Radius', 'Planet Mass', \"Planet Orbital Period\", \"Planet Transit Midpoint\"]):\n",
    "            attr = getattr(self, key)\n",
    "            if np.isfinite(attr):\n",
    "                d.loc[symbol, 'Value'] = \"{0}^{{{1}}}_{{{2}}}{3}\".format(attr.value, attr.err1.value, attr.err2.value, attr.unit.to_string('latex'))\n",
    "                d.loc[symbol, 'Description'] = desc\n",
    "                d.loc[symbol, 'Reference'] = f\"\\\\cite{{{attr.reference_name}}}\" if hasattr(attr, 'reference_name') else ''\n",
    "        return d\n",
    "\n",
    "    @property\n",
    "    def PlanetParametersTableLatex(self):\n",
    "        print(self.PlanetParametersTable.to_latex(caption=f'Planet Parameters for {self.hostname + self.letter}', label='tab:planetparams'))\n"
   ]
  },
  {
   "cell_type": "code",
   "execution_count": 629,
   "id": "167d790a-8d0b-4169-8e76-f93bc55d9271",
   "metadata": {},
   "outputs": [],
   "source": [
    "class Planets(object):\n",
    "    \"\"\"Special class to hold many planets in one system\"\"\"\n",
    "    def __init__(self, hostname:str):\n",
    "        self.hostname = hostname\n",
    "        tab = get_nexsci_tab(hostname)\n",
    "        if len(tab) == 0:\n",
    "            raise ValueError('No planets found')\n",
    "        self.letters = np.unique(list(tab['pl_letter']))\n",
    "        self.planets = [Planet(self.hostname, letter) for letter in self.letters]\n",
    "        self._tab = tab\n",
    "        self._cols = [c for c in list(self._tab.columns) if not (c.endswith('err1') | c.endswith('err2') | c.endswith('reflink') | c.endswith('lim') | c.endswith('str'))]\n",
    "        _ = [setattr(self, attr, [getattr(planet, attr) for planet in self]) for attr in self._cols if attr.startswith('pl')]\n",
    "        _ = [setattr(self, attr, getattr(self[0], attr)) for attr in self._cols if attr.startswith('st')]\n",
    "        _ = [setattr(self, attr, getattr(self[0], attr)) for attr in self._cols if attr.startswith('sy')]\n",
    "        self.acknowledgements = []\n",
    "        self.references = self[0].references\n",
    "        for planet in self:\n",
    "            self.references.update(planet.references)\n",
    "            [self.acknowledgements.append(a) for a in planet.acknowledgements]\n",
    "        self.acknowledgements = list(np.unique(self.acknowledgements))\n",
    "\n",
    "        \n",
    "    def __len__(self):\n",
    "        return len(self.letters)\n",
    "    \n",
    "    def __repr__(self):\n",
    "        return f\"{self.hostname} System ({len(self)} Planet{'s' if len(self) > 1 else ''})\"\n",
    "\n",
    "    def __getitem__(self, idx):\n",
    "        if isinstance(idx, int):\n",
    "            return self.planets[idx]\n",
    "        elif isinstance(idx, str):\n",
    "            if idx in self.letters:\n",
    "                return self.planets[np.where(self.letters == idx)[0][0]]\n",
    "            else:\n",
    "                raise ValueError(f\"No planet `{idx}` in the {self.hostname} system.\")\n",
    "        else:\n",
    "            raise ValueError(f\"Can not parse `{idx}` as a planet.\")\n",
    "\n",
    "    @property\n",
    "    def StarParametersTable(self):\n",
    "        return self[0].StarParametersTable\n",
    "\n",
    "    @property\n",
    "    def StarParametersTableLatex(self):\n",
    "        return self[0].StarParametersTableLatex\n",
    "\n",
    "    @property\n",
    "    def PlanetsParametersTable(self):\n",
    "        dfs = [planet.PlanetParametersTable[['Value', 'Reference']].rename({'Value':planet.name}, axis='columns') for planet in self]\n",
    "        return pd.concat([self[0].PlanetParametersTable[['Description']], *dfs], axis=1)\n",
    "\n",
    "    @property\n",
    "    def PlanetsParametersTableLatex(self):\n",
    "        print(self.PlanetsParametersTable.to_latex(caption=f'Planet Parameters for {self.hostname} Planets', label='tab:planetparams'))\n",
    "\n"
   ]
  },
  {
   "cell_type": "code",
   "execution_count": 633,
   "id": "cffa4180-88e5-42f4-9be2-747277f5e78d",
   "metadata": {},
   "outputs": [],
   "source": [
    "self = Planets('HAT-P-11')"
   ]
  },
  {
   "cell_type": "code",
   "execution_count": 634,
   "id": "44965a90-1bba-41a0-98e7-3bac90ac713d",
   "metadata": {},
   "outputs": [
    {
     "data": {
      "text/plain": [
       "['This research has made use of the NASA Exoplanet Archive, which is operated by the California Institute of Technology, under contract with the National Aeronautics and Space Administration under the Exoplanet Exploration Program.']"
      ]
     },
     "execution_count": 634,
     "metadata": {},
     "output_type": "execute_result"
    }
   ],
   "source": [
    "self.acknowledgements"
   ]
  },
  {
   "cell_type": "code",
   "execution_count": 635,
   "id": "a5f9aa85-d19e-4d88-ba24-b9ec2e58f48f",
   "metadata": {},
   "outputs": [
    {
     "data": {
      "text/plain": [
       "{'TICv8': '@ARTICLE{2019AJ....158..138S,\\n       author = {{Stassun}, Keivan G. and {Oelkers}, Ryan J. and {Paegert}, Martin and {Torres}, Guillermo and {Pepper}, Joshua and {De Lee}, Nathan and {Collins}, Kevin and {Latham}, David W. and {Muirhead}, Philip S. and {Chittidi}, Jay and {Rojas-Ayala}, B{\\\\\\'a}rbara and {Fleming}, Scott W. and {Rose}, Mark E. and {Tenenbaum}, Peter and {Ting}, Eric B. and {Kane}, Stephen R. and {Barclay}, Thomas and {Bean}, Jacob L. and {Brassuer}, C.~E. and {Charbonneau}, David and {Ge}, Jian and {Lissauer}, Jack J. and {Mann}, Andrew W. and {McLean}, Brian and {Mullally}, Susan and {Narita}, Norio and {Plavchan}, Peter and {Ricker}, George R. and {Sasselov}, Dimitar and {Seager}, S. and {Sharma}, Sanjib and {Shiao}, Bernie and {Sozzetti}, Alessandro and {Stello}, Dennis and {Vanderspek}, Roland and {Wallace}, Geoff and {Winn}, Joshua N.},\\n        title = \"{The Revised TESS Input Catalog and Candidate Target List}\",\\n      journal = {\\\\aj},\\n     keywords = {stars: fundamental parameters, Astrophysics - Solar and Stellar Astrophysics, Astrophysics - Earth and Planetary Astrophysics},\\n         year = 2019,\\n        month = oct,\\n       volume = {158},\\n       number = {4},\\n          eid = {138},\\n        pages = {138},\\n          doi = {10.3847/1538-3881/ab3467},\\narchivePrefix = {arXiv},\\n       eprint = {1905.10694},\\n primaryClass = {astro-ph.SR},\\n       adsurl = {https://ui.adsabs.harvard.edu/abs/2019AJ....158..138S},\\n      adsnote = {Provided by the SAO/NASA Astrophysics Data System}\\n}\\n\\n',\n",
       " 'Yee et al. 2018': '@ARTICLE{2018AJ....155..255Y,\\n       author = {{Yee}, Samuel W. and {Petigura}, Erik A. and {Fulton}, Benjamin J. and {Knutson}, Heather A. and {Batygin}, Konstantin and {Bakos}, G{\\\\\\'a}sp{\\\\\\'a}r {\\\\\\'A}. and {Hartman}, Joel D. and {Hirsch}, Lea A. and {Howard}, Andrew W. and {Isaacson}, Howard and {Kosiarek}, Molly R. and {Sinukoff}, Evan and {Weiss}, Lauren M.},\\n        title = \"{HAT-P-11: Discovery of a Second Planet and a Clue to Understanding Exoplanet Obliquities}\",\\n      journal = {\\\\aj},\\n     keywords = {planetary systems, planets and satellites: detection, planets and satellites: dynamical evolution and stability, stars: individual: HAT-P-11, Astrophysics - Earth and Planetary Astrophysics},\\n         year = 2018,\\n        month = jun,\\n       volume = {155},\\n       number = {6},\\n          eid = {255},\\n        pages = {255},\\n          doi = {10.3847/1538-3881/aabfec},\\narchivePrefix = {arXiv},\\n       eprint = {1805.09352},\\n primaryClass = {astro-ph.EP},\\n       adsurl = {https://ui.adsabs.harvard.edu/abs/2018AJ....155..255Y},\\n      adsnote = {Provided by the SAO/NASA Astrophysics Data System}\\n}\\n\\n',\n",
       " 'Southworth 2011': '@ARTICLE{2011MNRAS.417.2166S,\\n       author = {{Southworth}, John},\\n        title = \"{Homogeneous studies of transiting extrasolar planets - IV. Thirty systems with space-based light curves}\",\\n      journal = {\\\\mnras},\\n     keywords = {binaries: eclipsing, binaries: spectroscopic, stars: fundamental parameters, planetary systems, Astrophysics - Earth and Planetary Astrophysics},\\n         year = 2011,\\n        month = nov,\\n       volume = {417},\\n       number = {3},\\n        pages = {2166-2196},\\n          doi = {10.1111/j.1365-2966.2011.19399.x},\\narchivePrefix = {arXiv},\\n       eprint = {1107.1235},\\n primaryClass = {astro-ph.EP},\\n       adsurl = {https://ui.adsabs.harvard.edu/abs/2011MNRAS.417.2166S},\\n      adsnote = {Provided by the SAO/NASA Astrophysics Data System}\\n}\\n\\n',\n",
       " 'Berger et al. 2018': '@ARTICLE{2018ApJ...866...99B,\\n       author = {{Berger}, Travis A. and {Huber}, Daniel and {Gaidos}, Eric and {van Saders}, Jennifer L.},\\n        title = \"{Revised Radii of Kepler Stars and Planets Using Gaia Data Release 2}\",\\n      journal = {\\\\apj},\\n     keywords = {catalogs, planetary systems, stars: fundamental parameters, techniques: photometric, Astrophysics - Earth and Planetary Astrophysics, Astrophysics - Solar and Stellar Astrophysics},\\n         year = 2018,\\n        month = oct,\\n       volume = {866},\\n       number = {2},\\n          eid = {99},\\n        pages = {99},\\n          doi = {10.3847/1538-4357/aada83},\\narchivePrefix = {arXiv},\\n       eprint = {1805.00231},\\n primaryClass = {astro-ph.EP},\\n       adsurl = {https://ui.adsabs.harvard.edu/abs/2018ApJ...866...99B},\\n      adsnote = {Provided by the SAO/NASA Astrophysics Data System}\\n}\\n\\n',\n",
       " 'Q1-Q17 DR24 KOI Table': 'https://exoplanetarchive.ipac.caltech.edu/docs/Kepler_KOI_docs.html',\n",
       " 'Latham et al. 2005': '@INPROCEEDINGS{2005AAS...20711013L,\\n       author = {{Latham}, D.~W. and {Brown}, T.~M. and {Monet}, D.~G. and {Everett}, M. and {Esquerdo}, G.~A. and {Hergenrother}, C.~W.},\\n        title = \"{The Kepler Input Catalog}\",\\n    booktitle = {American Astronomical Society Meeting Abstracts},\\n         year = 2005,\\n       series = {American Astronomical Society Meeting Abstracts},\\n       volume = {207},\\n        month = dec,\\n          eid = {110.13},\\n        pages = {110.13},\\n       adsurl = {https://ui.adsabs.harvard.edu/abs/2005AAS...20711013L},\\n      adsnote = {Provided by the SAO/NASA Astrophysics Data System}\\n}\\n\\n',\n",
       " 'Cutri et al. 2014': '@ARTICLE{2014yCat.2328....0C,\\n       author = {{Cutri}, R.~M. and {Wright}, E.~L. and {Conrow}, T. and {Fowler}, J.~W. and {Eisenhardt}, P.~R.~M. and {Grillmair}, C. and {Kirkpatrick}, J.~D. and {Masci}, F. and {McCallon}, H.~L. and {Wheelock}, S.~L. and {Fajardo-Acosta}, S. and {Yan}, L. and {Benford}, D. and {Harbut}, M. and {Jarrett}, T. and {Lake}, S. and {Leisawitz}, D. and {Ressler}, M.~E. and {Stanford}, S.~A. and {Tsai}, C. -W. and {Liu}, F. and {Helou}, G. and {Mainzer}, A. and {Gettngs}, D. and {Gonzalez}, A. and {Hoffman}, D. and {Marsh}, K.~A. and {Padgett}, D. and {Skrutskie}, M.~F. and {Beck}, R. and {Papin}, M. and {Wittman}, M.},\\n        title = \"{VizieR Online Data Catalog: AllWISE Data Release (Cutri+ 2013)}\",\\n      journal = {VizieR Online Data Catalog},\\n     keywords = {WISE},\\n         year = 2021,\\n        month = feb,\\n          eid = {II/328},\\n        pages = {II/328},\\n       adsurl = {https://ui.adsabs.harvard.edu/abs/2014yCat.2328....0C},\\n      adsnote = {Provided by the SAO/NASA Astrophysics Data System}\\n}\\n\\n',\n",
       " 'Bakos et al. 2010': '@ARTICLE{2010ApJ...710.1724B,\\n       author = {{Bakos}, G. {\\\\\\'A}. and {Torres}, G. and {P{\\\\\\'a}l}, A. and {Hartman}, J. and {Kov{\\\\\\'a}cs}, G{\\\\\\'e}za and {Noyes}, R.~W. and {Latham}, D.~W. and {Sasselov}, D.~D. and {Sip{\\\\H{o}}cz}, B. and {Esquerdo}, G.~A. and {Fischer}, D.~A. and {Johnson}, J.~A. and {Marcy}, G.~W. and {Butler}, R.~P. and {Isaacson}, H. and {Howard}, A. and {Vogt}, S. and {Kov{\\\\\\'a}cs}, G{\\\\\\'a}bor and {Fernandez}, J. and {Mo{\\\\\\'o}r}, A. and {Stefanik}, R.~P. and {L{\\\\\\'a}z{\\\\\\'a}r}, J. and {Papp}, I. and {S{\\\\\\'a}ri}, P.},\\n        title = \"{HAT-P-11b: A Super-Neptune Planet Transiting a Bright K Star in the Kepler Field}\",\\n      journal = {\\\\apj},\\n     keywords = {planetary systems, stars: individual: HAT-P-11 GSC 03561-02092, techniques: photometric, techniques: spectroscopic, Astrophysics - Earth and Planetary Astrophysics},\\n         year = 2010,\\n        month = feb,\\n       volume = {710},\\n       number = {2},\\n        pages = {1724-1745},\\n          doi = {10.1088/0004-637X/710/2/1724},\\narchivePrefix = {arXiv},\\n       eprint = {0901.0282},\\n primaryClass = {astro-ph.EP},\\n       adsurl = {https://ui.adsabs.harvard.edu/abs/2010ApJ...710.1724B},\\n      adsnote = {Provided by the SAO/NASA Astrophysics Data System}\\n}\\n\\n',\n",
       " 'Sanchis-Ojeda &amp Winn 2011': '@ARTICLE{2011ApJ...743...61S,\\n       author = {{Sanchis-Ojeda}, Roberto and {Winn}, Joshua N.},\\n        title = \"{Starspots, Spin-Orbit Misalignment, and Active Latitudes in the HAT-P-11 Exoplanetary System}\",\\n      journal = {\\\\apj},\\n     keywords = {planetary systems, stars: activity, stars: individual: HAT-P-11, stars: rotation, starspots, Astrophysics - Earth and Planetary Astrophysics},\\n         year = 2011,\\n        month = dec,\\n       volume = {743},\\n       number = {1},\\n          eid = {61},\\n        pages = {61},\\n          doi = {10.1088/0004-637X/743/1/61},\\narchivePrefix = {arXiv},\\n       eprint = {1107.2920},\\n primaryClass = {astro-ph.EP},\\n       adsurl = {https://ui.adsabs.harvard.edu/abs/2011ApJ...743...61S},\\n      adsnote = {Provided by the SAO/NASA Astrophysics Data System}\\n}\\n\\n',\n",
       " 'Kokori et al. 2022': '@ARTICLE{2022ApJS..258...40K,\\n       author = {{Kokori}, A. and {Tsiaras}, A. and {Edwards}, B. and {Rocchetto}, M. and {Tinetti}, G. and {Bewersdorff}, L. and {Jongen}, Y. and {Lekkas}, G. and {Pantelidou}, G. and {Poultourtzidis}, E. and {W{\\\\\"u}nsche}, A. and {Aggelis}, C. and {Agnihotri}, V.~K. and {Arena}, C. and {Bachschmidt}, M. and {Bennett}, D. and {Benni}, P. and {Bernacki}, K. and {Besson}, E. and {Betti}, L. and {Biagini}, A. and {Brandebourg}, P. and {Bretton}, M. and {Brincat}, S.~M. and {Cal{\\\\\\'o}}, M. and {Campos}, F. and {Casali}, R. and {Ciantini}, R. and {Crow}, M.~V. and {Dauchet}, B. and {Dawes}, S. and {Deldem}, M. and {Deligeorgopoulos}, D. and {Dymock}, R. and {Eenm{\\\\\"a}e}, T. and {Evans}, P. and {Esseiva}, N. and {Falco}, C. and {Ferratfiat}, S. and {Fowler}, M. and {Futcher}, S.~R. and {Gaitan}, J. and {Horta}, F. Grau and {Guerra}, P. and {Hurter}, F. and {Jones}, A. and {Kang}, W. and {Kiiskinen}, H. and {Kim}, T. and {Laloum}, D. and {Lee}, R. and {Lomoz}, F. and {Lopresti}, C. and {Mallonn}, M. and {Mannucci}, M. and {Marino}, A. and {Mario}, J. -C. and {Marquette}, J. -B. and {Michelet}, J. and {Miller}, M. and {Mollier}, T. and {Molina}, D. and {Montigiani}, N. and {Mortari}, F. and {Morvan}, M. and {Mugnai}, L.~V. and {Naponiello}, L. and {Nastasi}, A. and {Neito}, R. and {Pace}, E. and {Papadeas}, P. and {Paschalis}, N. and {Pereira}, C. and {Perroud}, V. and {Phillips}, M. and {Pintr}, P. and {Pioppa}, J. -B. and {Popowicz}, A. and {Raetz}, M. and {Regembal}, F. and {Rickard}, K. and {Roberts}, M. and {Rousselot}, L. and {Rubia}, X. and {Savage}, J. and {Sedita}, D. and {Shave-Wall}, D. and {Sioulas}, N. and {{\\\\v{S}}koln{\\\\\\'\\\\i}k}, V. and {Smith}, M. and {St-Gelais}, D. and {Stouraitis}, D. and {Strikis}, I. and {Thurston}, G. and {Tomacelli}, A. and {Tomatis}, A. and {Trevan}, B. and {Valeau}, P. and {Vignes}, J. -P. and {Vora}, K. and {Vra{\\\\v{s}}{\\\\v{t}}{\\\\\\'a}k}, M. and {Walter}, F. and {Wenzel}, B. and {Wright}, D.~E. and {Z{\\\\\\'\\\\i}bar}, M.},\\n        title = \"{ExoClock Project. II. A Large-scale Integrated Study with 180 Updated Exoplanet Ephemerides}\",\\n      journal = {\\\\apjs},\\n     keywords = {1709, 464, 498, 35, Astrophysics - Earth and Planetary Astrophysics},\\n         year = 2022,\\n        month = feb,\\n       volume = {258},\\n       number = {2},\\n          eid = {40},\\n        pages = {40},\\n          doi = {10.3847/1538-4365/ac3a10},\\narchivePrefix = {arXiv},\\n       eprint = {2110.13863},\\n primaryClass = {astro-ph.EP},\\n       adsurl = {https://ui.adsabs.harvard.edu/abs/2022ApJS..258...40K},\\n      adsnote = {Provided by the SAO/NASA Astrophysics Data System}\\n}\\n\\n',\n",
       " 'Morton et al. 2016': '@ARTICLE{2016ApJ...822...86M,\\n       author = {{Morton}, Timothy D. and {Bryson}, Stephen T. and {Coughlin}, Jeffrey L. and {Rowe}, Jason F. and {Ravichandran}, Ganesh and {Petigura}, Erik A. and {Haas}, Michael R. and {Batalha}, Natalie M.},\\n        title = \"{False Positive Probabilities for all Kepler Objects of Interest: 1284 Newly Validated Planets and 428 Likely False Positives}\",\\n      journal = {\\\\apj},\\n     keywords = {methods: statistical, planetary systems, Astrophysics - Earth and Planetary Astrophysics},\\n         year = 2016,\\n        month = may,\\n       volume = {822},\\n       number = {2},\\n          eid = {86},\\n        pages = {86},\\n          doi = {10.3847/0004-637X/822/2/86},\\narchivePrefix = {arXiv},\\n       eprint = {1605.02825},\\n primaryClass = {astro-ph.EP},\\n       adsurl = {https://ui.adsabs.harvard.edu/abs/2016ApJ...822...86M},\\n      adsnote = {Provided by the SAO/NASA Astrophysics Data System}\\n}\\n\\n',\n",
       " 'Gaia DR2': '@ARTICLE{2018A&A...616A...1G,\\n       author = {{Gaia Collaboration} and {Brown}, A.~G.~A. and {Vallenari}, A. and {Prusti}, T. and {de Bruijne}, J.~H.~J. and {Babusiaux}, C. and {Bailer-Jones}, C.~A.~L. and {Biermann}, M. and {Evans}, D.~W. and {Eyer}, L. and et al.},\\n        title = \"{Gaia Data Release 2. Summary of the contents and survey properties}\",\\n      journal = {\\\\aap},\\n     keywords = {catalogs, astrometry, techniques: radial velocities, stars: fundamental parameters, stars: variables: general, minor planets, asteroids: general, Astrophysics - Astrophysics of Galaxies, Astrophysics - Instrumentation and Methods for Astrophysics},\\n         year = 2018,\\n        month = aug,\\n       volume = {616},\\n          eid = {A1},\\n        pages = {A1},\\n          doi = {10.1051/0004-6361/201833051},\\narchivePrefix = {arXiv},\\n       eprint = {1804.09365},\\n primaryClass = {astro-ph.GA},\\n       adsurl = {https://ui.adsabs.harvard.edu/abs/2018A&A...616A...1G},\\n      adsnote = {Provided by the SAO/NASA Astrophysics Data System}\\n}\\n\\n',\n",
       " 'Xuan &amp Wyatt 2020': '@ARTICLE{2020MNRAS.497.2096X,\\n       author = {{Xuan}, Jerry W. and {Wyatt}, Mark C.},\\n        title = \"{Evidence for a high mutual inclination between the cold Jupiter and transiting super Earth orbiting {\\\\ensuremath{\\\\pi}} Men}\",\\n      journal = {\\\\mnras},\\n     keywords = {astrometry, planets and satellites: dynamical evolution and stability, Astrophysics - Earth and Planetary Astrophysics},\\n         year = 2020,\\n        month = sep,\\n       volume = {497},\\n       number = {2},\\n        pages = {2096-2118},\\n          doi = {10.1093/mnras/staa2033},\\narchivePrefix = {arXiv},\\n       eprint = {2007.01871},\\n primaryClass = {astro-ph.EP},\\n       adsurl = {https://ui.adsabs.harvard.edu/abs/2020MNRAS.497.2096X},\\n      adsnote = {Provided by the SAO/NASA Astrophysics Data System}\\n}\\n\\n',\n",
       " 'Calculated Value': '/docs/composite_calc.html target=_blank>Calculated Value</a>'}"
      ]
     },
     "execution_count": 635,
     "metadata": {},
     "output_type": "execute_result"
    }
   ],
   "source": [
    "self.references"
   ]
  },
  {
   "cell_type": "code",
   "execution_count": null,
   "id": "323c8ab1-b88a-4b5e-98f2-f53c63bb989a",
   "metadata": {},
   "outputs": [],
   "source": []
  },
  {
   "cell_type": "code",
   "execution_count": 610,
   "id": "63bf8930-0da0-41cf-9f9b-3c789d4d6608",
   "metadata": {},
   "outputs": [
    {
     "data": {
      "text/html": [
       "<div>\n",
       "<style scoped>\n",
       "    .dataframe tbody tr th:only-of-type {\n",
       "        vertical-align: middle;\n",
       "    }\n",
       "\n",
       "    .dataframe tbody tr th {\n",
       "        vertical-align: top;\n",
       "    }\n",
       "\n",
       "    .dataframe thead th {\n",
       "        text-align: right;\n",
       "    }\n",
       "</style>\n",
       "<table border=\"1\" class=\"dataframe\">\n",
       "  <thead>\n",
       "    <tr style=\"text-align: right;\">\n",
       "      <th></th>\n",
       "      <th>Value</th>\n",
       "      <th>Description</th>\n",
       "      <th>Reference</th>\n",
       "    </tr>\n",
       "  </thead>\n",
       "  <tbody>\n",
       "    <tr>\n",
       "      <th>R</th>\n",
       "      <td>$0.68 \\; \\mathrm{Rsun}$^{0.01}_{-0.01}</td>\n",
       "      <td>Stellar Radius</td>\n",
       "      <td>\\cite{2018AJ....155..255Y}</td>\n",
       "    </tr>\n",
       "    <tr>\n",
       "      <th>M</th>\n",
       "      <td>$0.81 \\; \\mathrm{Msun}$^{0.02}_{-0.03}</td>\n",
       "      <td>Stellar Mass</td>\n",
       "      <td>\\cite{2018AJ....155..255Y}</td>\n",
       "    </tr>\n",
       "    <tr>\n",
       "      <th>Age</th>\n",
       "      <td>$6.5 \\; \\mathrm{Gyr}$^{5.9}_{-4.1}</td>\n",
       "      <td>Stellar Age</td>\n",
       "      <td>\\cite{2018AJ....155..255Y}</td>\n",
       "    </tr>\n",
       "    <tr>\n",
       "      <th>logg</th>\n",
       "      <td>$4.66 \\; \\mathrm{}$^{0.01}_{-0.01}</td>\n",
       "      <td>Stellar Gravity</td>\n",
       "      <td>\\cite{2011MNRAS.417.2166S}</td>\n",
       "    </tr>\n",
       "  </tbody>\n",
       "</table>\n",
       "</div>"
      ],
      "text/plain": [
       "                                       Value      Description  \\\n",
       "R     $0.68 \\; \\mathrm{Rsun}$^{0.01}_{-0.01}   Stellar Radius   \n",
       "M     $0.81 \\; \\mathrm{Msun}$^{0.02}_{-0.03}     Stellar Mass   \n",
       "Age       $6.5 \\; \\mathrm{Gyr}$^{5.9}_{-4.1}      Stellar Age   \n",
       "logg      $4.66 \\; \\mathrm{}$^{0.01}_{-0.01}  Stellar Gravity   \n",
       "\n",
       "                       Reference  \n",
       "R     \\cite{2018AJ....155..255Y}  \n",
       "M     \\cite{2018AJ....155..255Y}  \n",
       "Age   \\cite{2018AJ....155..255Y}  \n",
       "logg  \\cite{2011MNRAS.417.2166S}  "
      ]
     },
     "execution_count": 610,
     "metadata": {},
     "output_type": "execute_result"
    }
   ],
   "source": [
    "self.StarParametersTable"
   ]
  },
  {
   "cell_type": "code",
   "execution_count": 593,
   "id": "5ee05e12-f447-47cc-989f-a5e2a9f0809b",
   "metadata": {},
   "outputs": [
    {
     "data": {
      "text/plain": [
       "HAT-P-11b"
      ]
     },
     "execution_count": 593,
     "metadata": {},
     "output_type": "execute_result"
    }
   ],
   "source": [
    "self[0]"
   ]
  },
  {
   "cell_type": "code",
   "execution_count": 557,
   "id": "bb98d702-ab1f-4e80-bd43-418e9eaf38a6",
   "metadata": {},
   "outputs": [
    {
     "data": {
      "text/plain": [
       "['pl_name',\n",
       " 'pl_letter',\n",
       " 'hostname',\n",
       " 'hd_name',\n",
       " 'hip_name',\n",
       " 'tic_id',\n",
       " 'disc_pubdate',\n",
       " 'disc_year',\n",
       " 'discoverymethod',\n",
       " 'disc_locale',\n",
       " 'disc_facility',\n",
       " 'disc_instrument',\n",
       " 'disc_telescope',\n",
       " 'disc_refname',\n",
       " 'ra',\n",
       " 'dec',\n",
       " 'glon',\n",
       " 'glat',\n",
       " 'elon',\n",
       " 'elat',\n",
       " 'pl_orbper',\n",
       " 'pl_orblper',\n",
       " 'pl_orbsmax',\n",
       " 'pl_orbincl',\n",
       " 'pl_orbtper',\n",
       " 'pl_orbeccen',\n",
       " 'pl_eqt',\n",
       " 'pl_occdep',\n",
       " 'pl_insol',\n",
       " 'pl_dens',\n",
       " 'pl_trandep',\n",
       " 'pl_tranmid',\n",
       " 'sy_pmdec',\n",
       " 'sy_plx',\n",
       " 'sy_dist',\n",
       " 'sy_bmag',\n",
       " 'sy_vmag',\n",
       " 'sy_jmag',\n",
       " 'sy_hmag',\n",
       " 'sy_kmag',\n",
       " 'sy_umag',\n",
       " 'sy_rmag',\n",
       " 'sy_imag',\n",
       " 'sy_zmag',\n",
       " 'sy_w1mag',\n",
       " 'sy_w2mag',\n",
       " 'sy_w3mag',\n",
       " 'sy_w4mag',\n",
       " 'sy_gmag',\n",
       " 'sy_gaiamag',\n",
       " 'sy_tmag',\n",
       " 'pl_controv_flag',\n",
       " 'pl_orbtper_systemref',\n",
       " 'pl_tranmid_systemref',\n",
       " 'st_metratio',\n",
       " 'st_spectype',\n",
       " 'sy_kepmag',\n",
       " 'st_rotp',\n",
       " 'pl_projobliq',\n",
       " 'gaia_id',\n",
       " 'cb_flag',\n",
       " 'pl_trandur',\n",
       " 'pl_rvamp',\n",
       " 'pl_radj',\n",
       " 'pl_rade',\n",
       " 'pl_ratror',\n",
       " 'pl_ratdor',\n",
       " 'pl_trueobliq',\n",
       " 'sy_icmag',\n",
       " 'dkin_flag',\n",
       " 'pl_imppar',\n",
       " 'pl_bmassj',\n",
       " 'pl_bmasse',\n",
       " 'pl_bmassprov',\n",
       " 'st_teff',\n",
       " 'st_met',\n",
       " 'st_radv',\n",
       " 'st_vsin',\n",
       " 'st_lum',\n",
       " 'st_logg',\n",
       " 'st_age',\n",
       " 'st_mass',\n",
       " 'st_dens',\n",
       " 'st_rad',\n",
       " 'ttv_flag',\n",
       " 'ptv_flag',\n",
       " 'tran_flag',\n",
       " 'rv_flag',\n",
       " 'ast_flag',\n",
       " 'obm_flag',\n",
       " 'micro_flag',\n",
       " 'etv_flag',\n",
       " 'ima_flag',\n",
       " 'pul_flag',\n",
       " 'sy_snum',\n",
       " 'sy_pnum',\n",
       " 'sy_mnum',\n",
       " 'st_nphot',\n",
       " 'st_nrvc',\n",
       " 'st_nspec',\n",
       " 'pl_nespec',\n",
       " 'pl_ntranspec',\n",
       " 'pl_nnotes',\n",
       " 'sy_pm',\n",
       " 'sy_pmra',\n",
       " 'x',\n",
       " 'y',\n",
       " 'z',\n",
       " 'htm20',\n",
       " 'sky_coord']"
      ]
     },
     "execution_count": 557,
     "metadata": {},
     "output_type": "execute_result"
    }
   ],
   "source": []
  },
  {
   "cell_type": "code",
   "execution_count": 536,
   "id": "3c6f9504-a73f-400c-8dba-57ba5baf54e7",
   "metadata": {},
   "outputs": [
    {
     "data": {
      "text/html": [
       "<div>\n",
       "<style scoped>\n",
       "    .dataframe tbody tr th:only-of-type {\n",
       "        vertical-align: middle;\n",
       "    }\n",
       "\n",
       "    .dataframe tbody tr th {\n",
       "        vertical-align: top;\n",
       "    }\n",
       "\n",
       "    .dataframe thead th {\n",
       "        text-align: right;\n",
       "    }\n",
       "</style>\n",
       "<table border=\"1\" class=\"dataframe\">\n",
       "  <thead>\n",
       "    <tr style=\"text-align: right;\">\n",
       "      <th></th>\n",
       "      <th>Description</th>\n",
       "    </tr>\n",
       "  </thead>\n",
       "  <tbody>\n",
       "    <tr>\n",
       "      <th>R</th>\n",
       "      <td>Planet Radius</td>\n",
       "    </tr>\n",
       "    <tr>\n",
       "      <th>M</th>\n",
       "      <td>Planet Mass</td>\n",
       "    </tr>\n",
       "    <tr>\n",
       "      <th>P</th>\n",
       "      <td>Planet Orbital Period</td>\n",
       "    </tr>\n",
       "    <tr>\n",
       "      <th>T_0</th>\n",
       "      <td>Planet Transit Midpoint</td>\n",
       "    </tr>\n",
       "  </tbody>\n",
       "</table>\n",
       "</div>"
      ],
      "text/plain": [
       "                 Description\n",
       "R              Planet Radius\n",
       "M                Planet Mass\n",
       "P      Planet Orbital Period\n",
       "T_0  Planet Transit Midpoint"
      ]
     },
     "execution_count": 536,
     "metadata": {},
     "output_type": "execute_result"
    }
   ],
   "source": []
  },
  {
   "cell_type": "code",
   "execution_count": null,
   "id": "b5efb963-ee4f-4e5b-a038-10971d531fa2",
   "metadata": {},
   "outputs": [],
   "source": []
  },
  {
   "cell_type": "code",
   "execution_count": null,
   "id": "30a1f7bf-361d-43e0-acea-f715decc9dc5",
   "metadata": {},
   "outputs": [],
   "source": []
  },
  {
   "cell_type": "code",
   "execution_count": 440,
   "id": "36d18524-f5f9-454d-a6b8-27dcdbeb4168",
   "metadata": {},
   "outputs": [],
   "source": [
    "self = Planet('HD209458', 'b')"
   ]
  },
  {
   "cell_type": "code",
   "execution_count": 441,
   "id": "c4486352-65dd-4e94-864a-1cfe25bb0770",
   "metadata": {},
   "outputs": [
    {
     "data": {
      "text/html": [
       "<div>\n",
       "<style scoped>\n",
       "    .dataframe tbody tr th:only-of-type {\n",
       "        vertical-align: middle;\n",
       "    }\n",
       "\n",
       "    .dataframe tbody tr th {\n",
       "        vertical-align: top;\n",
       "    }\n",
       "\n",
       "    .dataframe thead th {\n",
       "        text-align: right;\n",
       "    }\n",
       "</style>\n",
       "<table border=\"1\" class=\"dataframe\">\n",
       "  <thead>\n",
       "    <tr style=\"text-align: right;\">\n",
       "      <th></th>\n",
       "      <th>Value</th>\n",
       "      <th>Description</th>\n",
       "      <th>Reference</th>\n",
       "    </tr>\n",
       "  </thead>\n",
       "  <tbody>\n",
       "    <tr>\n",
       "      <th>R</th>\n",
       "      <td>1.39^{0.02}_{-0.02}$\\mathrm{R_{\\rm J}}$</td>\n",
       "      <td>Planet Radius</td>\n",
       "      <td>\\cite{2017AJ....153..136S}</td>\n",
       "    </tr>\n",
       "    <tr>\n",
       "      <th>M</th>\n",
       "      <td>0.73^{0.04}_{-0.04}$\\mathrm{M_{\\rm J}}$</td>\n",
       "      <td>Planet Mass</td>\n",
       "      <td>\\cite{2017AJ....153..136S}</td>\n",
       "    </tr>\n",
       "    <tr>\n",
       "      <th>P</th>\n",
       "      <td>3.52474859^{3.8e-07}_{-3.8e-07}$\\mathrm{d}$</td>\n",
       "      <td>Planet Orbital Period</td>\n",
       "      <td>\\cite{2017AJ....153..136S}</td>\n",
       "    </tr>\n",
       "    <tr>\n",
       "      <th>T_0</th>\n",
       "      <td>2451659.93742^{2e-05}_{-2e-05}$\\mathrm{d}$</td>\n",
       "      <td>Planet Transit Midpoint</td>\n",
       "      <td>\\cite{2012ApJ...757...18A}</td>\n",
       "    </tr>\n",
       "  </tbody>\n",
       "</table>\n",
       "</div>"
      ],
      "text/plain": [
       "                                           Value              Description  \\\n",
       "R        1.39^{0.02}_{-0.02}$\\mathrm{R_{\\rm J}}$            Planet Radius   \n",
       "M        0.73^{0.04}_{-0.04}$\\mathrm{M_{\\rm J}}$              Planet Mass   \n",
       "P    3.52474859^{3.8e-07}_{-3.8e-07}$\\mathrm{d}$    Planet Orbital Period   \n",
       "T_0   2451659.93742^{2e-05}_{-2e-05}$\\mathrm{d}$  Planet Transit Midpoint   \n",
       "\n",
       "                      Reference  \n",
       "R    \\cite{2017AJ....153..136S}  \n",
       "M    \\cite{2017AJ....153..136S}  \n",
       "P    \\cite{2017AJ....153..136S}  \n",
       "T_0  \\cite{2012ApJ...757...18A}  "
      ]
     },
     "execution_count": 441,
     "metadata": {},
     "output_type": "execute_result"
    }
   ],
   "source": [
    "self.PlanetParametersTable"
   ]
  },
  {
   "cell_type": "code",
   "execution_count": 443,
   "id": "98e98654-ea7f-4fd5-a8ee-79d19de137e9",
   "metadata": {},
   "outputs": [
    {
     "name": "stdout",
     "output_type": "stream",
     "text": [
      "\\begin{table}\n",
      "\\caption{Planet Parameters for HD 209458b}\n",
      "\\label{tab:planetparams}\n",
      "\\begin{tabular}{llll}\n",
      "\\toprule\n",
      " & Value & Description & Reference \\\\\n",
      "\\midrule\n",
      "R & 1.39^{0.02}_{-0.02}$\\mathrm{R_{\\rm J}}$ & Planet Radius & \\cite{2017AJ....153..136S} \\\\\n",
      "M & 0.73^{0.04}_{-0.04}$\\mathrm{M_{\\rm J}}$ & Planet Mass & \\cite{2017AJ....153..136S} \\\\\n",
      "P & 3.52474859^{3.8e-07}_{-3.8e-07}$\\mathrm{d}$ & Planet Orbital Period & \\cite{2017AJ....153..136S} \\\\\n",
      "T_0 & 2451659.93742^{2e-05}_{-2e-05}$\\mathrm{d}$ & Planet Transit Midpoint & \\cite{2012ApJ...757...18A} \\\\\n",
      "\\bottomrule\n",
      "\\end{tabular}\n",
      "\\end{table}\n",
      "\n"
     ]
    }
   ],
   "source": [
    "self.PlanetParametersTableLatex"
   ]
  },
  {
   "cell_type": "code",
   "execution_count": 413,
   "id": "f777aa5e-50d4-4d2b-904f-95c208511001",
   "metadata": {},
   "outputs": [
    {
     "name": "stdout",
     "output_type": "stream",
     "text": [
      "\\begin{table}\n",
      "\\caption{Stellar Parameters for HD 209458}\n",
      "\\label{tab:stellarparams}\n",
      "\\begin{tabular}{llll}\n",
      "\\toprule\n",
      " & Value & Description & Reference \\\\\n",
      "\\midrule\n",
      "R & $1.19 \\; \\mathrm{Rsun}$^{0.02}_{-0.02} & Stellar Radius & \\cite{2017AJ....153..136S} \\\\\n",
      "M & $1.23 \\; \\mathrm{Msun}$^{0.09}_{-0.09} & Stellar Mass & \\cite{2017AJ....153..136S} \\\\\n",
      "Age & $3.1 \\; \\mathrm{Gyr}$^{0.8}_{-0.7} & Stellar Age & \\cite{2017A&A...602A.107B} \\\\\n",
      "logg & $4.45 \\; \\mathrm{}$^{0.02}_{-0.02} & Stellar Gravity & \\cite{2017AJ....153..136S} \\\\\n",
      "\\bottomrule\n",
      "\\end{tabular}\n",
      "\\end{table}\n",
      "\n"
     ]
    }
   ],
   "source": [
    "d = pd.DataFrame(columns=['Value', 'Description', 'Reference'])\n",
    "for key, symbol, desc in zip(['st_rad', 'st_mass', 'st_age', 'st_logg'],\n",
    "                             ['R', 'M', 'Age', 'logg'],\n",
    "                             ['Stellar Radius', 'Stellar Mass', \"Stellar Age\", \"Stellar Gravity\"]):\n",
    "    attr = getattr(self, key)\n",
    "    if np.isfinite(attr):\n",
    "        d.loc[symbol, 'Value'] = \"{0}^{{{1}}}_{{{2}}}\".format(attr.to_string(format='latex'), attr.err1.value, attr.err2.value)\n",
    "        d.loc[symbol, 'Description'] = desc\n",
    "        d.loc[symbol, 'Reference'] = f\"\\\\cite{{{attr.reference_name}}}\"\n",
    "print(d.to_latex(caption=f'Stellar Parameters for {self.hostname}', label='tab:stellarparams'))"
   ]
  },
  {
   "cell_type": "code",
   "execution_count": 414,
   "id": "94e6388a-1852-4e10-9010-ed843486451c",
   "metadata": {},
   "outputs": [
    {
     "data": {
      "text/html": [
       "<div>\n",
       "<style scoped>\n",
       "    .dataframe tbody tr th:only-of-type {\n",
       "        vertical-align: middle;\n",
       "    }\n",
       "\n",
       "    .dataframe tbody tr th {\n",
       "        vertical-align: top;\n",
       "    }\n",
       "\n",
       "    .dataframe thead th {\n",
       "        text-align: right;\n",
       "    }\n",
       "</style>\n",
       "<table border=\"1\" class=\"dataframe\">\n",
       "  <thead>\n",
       "    <tr style=\"text-align: right;\">\n",
       "      <th></th>\n",
       "      <th>Value</th>\n",
       "      <th>Description</th>\n",
       "      <th>Reference</th>\n",
       "    </tr>\n",
       "  </thead>\n",
       "  <tbody>\n",
       "    <tr>\n",
       "      <th>R</th>\n",
       "      <td>$1.19 \\; \\mathrm{Rsun}$^{0.02}_{-0.02}</td>\n",
       "      <td>Stellar Radius</td>\n",
       "      <td>\\cite{2017AJ....153..136S}</td>\n",
       "    </tr>\n",
       "    <tr>\n",
       "      <th>M</th>\n",
       "      <td>$1.23 \\; \\mathrm{Msun}$^{0.09}_{-0.09}</td>\n",
       "      <td>Stellar Mass</td>\n",
       "      <td>\\cite{2017AJ....153..136S}</td>\n",
       "    </tr>\n",
       "    <tr>\n",
       "      <th>Age</th>\n",
       "      <td>$3.1 \\; \\mathrm{Gyr}$^{0.8}_{-0.7}</td>\n",
       "      <td>Stellar Age</td>\n",
       "      <td>\\cite{2017A&amp;A...602A.107B}</td>\n",
       "    </tr>\n",
       "    <tr>\n",
       "      <th>logg</th>\n",
       "      <td>$4.45 \\; \\mathrm{}$^{0.02}_{-0.02}</td>\n",
       "      <td>Stellar Gravity</td>\n",
       "      <td>\\cite{2017AJ....153..136S}</td>\n",
       "    </tr>\n",
       "  </tbody>\n",
       "</table>\n",
       "</div>"
      ],
      "text/plain": [
       "                                       Value      Description  \\\n",
       "R     $1.19 \\; \\mathrm{Rsun}$^{0.02}_{-0.02}   Stellar Radius   \n",
       "M     $1.23 \\; \\mathrm{Msun}$^{0.09}_{-0.09}     Stellar Mass   \n",
       "Age       $3.1 \\; \\mathrm{Gyr}$^{0.8}_{-0.7}      Stellar Age   \n",
       "logg      $4.45 \\; \\mathrm{}$^{0.02}_{-0.02}  Stellar Gravity   \n",
       "\n",
       "                       Reference  \n",
       "R     \\cite{2017AJ....153..136S}  \n",
       "M     \\cite{2017AJ....153..136S}  \n",
       "Age   \\cite{2017A&A...602A.107B}  \n",
       "logg  \\cite{2017AJ....153..136S}  "
      ]
     },
     "execution_count": 414,
     "metadata": {},
     "output_type": "execute_result"
    }
   ],
   "source": []
  },
  {
   "cell_type": "code",
   "execution_count": 406,
   "id": "5f985014-a4ba-43ed-abbb-f5d5f5271e5c",
   "metadata": {},
   "outputs": [
    {
     "name": "stdout",
     "output_type": "stream",
     "text": [
      "\\begin{tabular}{llll}\n",
      "\\toprule\n",
      " & Value & Description & Reference \\\\\n",
      "\\midrule\n",
      "R & $1.19 \\; \\mathrm{Rsun}$^{0.02}_{-0.02} & Stellar Radius & \\cite{2017AJ....153..136S} \\\\\n",
      "M & $1.23 \\; \\mathrm{Msun}$^{0.09}_{-0.09} & Stellar Mass & \\cite{2017AJ....153..136S} \\\\\n",
      "Age & $3.1 \\; \\mathrm{Gyr}$^{0.8}_{-0.7} & Stellar Age & \\cite{2017A&A...602A.107B} \\\\\n",
      "logg & $4.45 \\; \\mathrm{}$^{0.02}_{-0.02} & Stellar Gravity & \\cite{2017AJ....153..136S} \\\\\n",
      "\\bottomrule\n",
      "\\end{tabular}\n",
      "\n"
     ]
    }
   ],
   "source": [
    "print(d.to_latex())"
   ]
  },
  {
   "cell_type": "code",
   "execution_count": 380,
   "id": "fcabe76f-91df-49f8-999b-a0a3c41d1640",
   "metadata": {},
   "outputs": [
    {
     "data": {
      "text/latex": [
       "$4.45 \\; \\mathrm{}$"
      ],
      "text/plain": [
       "<Quantity 4.45>"
      ]
     },
     "execution_count": 380,
     "metadata": {},
     "output_type": "execute_result"
    }
   ],
   "source": [
    "self.st_logg"
   ]
  },
  {
   "cell_type": "code",
   "execution_count": 381,
   "id": "faa17a33-dee9-41bb-9ef5-b6a5fa03da55",
   "metadata": {},
   "outputs": [
    {
     "data": {
      "text/html": [
       "<div>\n",
       "<style scoped>\n",
       "    .dataframe tbody tr th:only-of-type {\n",
       "        vertical-align: middle;\n",
       "    }\n",
       "\n",
       "    .dataframe tbody tr th {\n",
       "        vertical-align: top;\n",
       "    }\n",
       "\n",
       "    .dataframe thead th {\n",
       "        text-align: right;\n",
       "    }\n",
       "</style>\n",
       "<table border=\"1\" class=\"dataframe\">\n",
       "  <thead>\n",
       "    <tr style=\"text-align: right;\">\n",
       "      <th></th>\n",
       "      <th>Value</th>\n",
       "      <th>Description</th>\n",
       "      <th>Reference</th>\n",
       "    </tr>\n",
       "  </thead>\n",
       "  <tbody>\n",
       "    <tr>\n",
       "      <th>R</th>\n",
       "      <td>$1.19 \\; \\mathrm{Rsun}$^{0.02}_{-0.02}</td>\n",
       "      <td>Stellar Radius</td>\n",
       "      <td>\\cite{2017AJ....153..136S}</td>\n",
       "    </tr>\n",
       "    <tr>\n",
       "      <th>M</th>\n",
       "      <td>$1.23 \\; \\mathrm{Msun}$^{0.09}_{-0.09}</td>\n",
       "      <td>Stellar Mass</td>\n",
       "      <td>\\cite{2017AJ....153..136S}</td>\n",
       "    </tr>\n",
       "  </tbody>\n",
       "</table>\n",
       "</div>"
      ],
      "text/plain": [
       "                                    Value     Description  \\\n",
       "R  $1.19 \\; \\mathrm{Rsun}$^{0.02}_{-0.02}  Stellar Radius   \n",
       "M  $1.23 \\; \\mathrm{Msun}$^{0.09}_{-0.09}    Stellar Mass   \n",
       "\n",
       "                    Reference  \n",
       "R  \\cite{2017AJ....153..136S}  \n",
       "M  \\cite{2017AJ....153..136S}  "
      ]
     },
     "execution_count": 381,
     "metadata": {},
     "output_type": "execute_result"
    }
   ],
   "source": [
    "d"
   ]
  },
  {
   "cell_type": "code",
   "execution_count": 347,
   "id": "9ccf2b46-be08-4bd4-95e0-a286bbf4af66",
   "metadata": {},
   "outputs": [
    {
     "ename": "ValueError",
     "evalue": "If using all scalar values, you must pass an index",
     "output_type": "error",
     "traceback": [
      "\u001b[0;31m---------------------------------------------------------------------------\u001b[0m",
      "\u001b[0;31mValueError\u001b[0m                                Traceback (most recent call last)",
      "Cell \u001b[0;32mIn[347], line 1\u001b[0m\n\u001b[0;32m----> 1\u001b[0m \u001b[43mpd\u001b[49m\u001b[38;5;241;43m.\u001b[39;49m\u001b[43mDataFrame\u001b[49m\u001b[38;5;241;43m.\u001b[39;49m\u001b[43mfrom_dict\u001b[49m\u001b[43m(\u001b[49m\u001b[43md\u001b[49m\u001b[43m)\u001b[49m\n",
      "File \u001b[0;32m~/Library/Caches/pypoetry/virtualenvs/exoscraper-SVNmoUzF-py3.9/lib/python3.9/site-packages/pandas/core/frame.py:1760\u001b[0m, in \u001b[0;36mDataFrame.from_dict\u001b[0;34m(cls, data, orient, dtype, columns)\u001b[0m\n\u001b[1;32m   1754\u001b[0m     \u001b[38;5;28;01mraise\u001b[39;00m \u001b[38;5;167;01mValueError\u001b[39;00m(\n\u001b[1;32m   1755\u001b[0m         \u001b[38;5;124mf\u001b[39m\u001b[38;5;124m\"\u001b[39m\u001b[38;5;124mExpected \u001b[39m\u001b[38;5;124m'\u001b[39m\u001b[38;5;124mindex\u001b[39m\u001b[38;5;124m'\u001b[39m\u001b[38;5;124m, \u001b[39m\u001b[38;5;124m'\u001b[39m\u001b[38;5;124mcolumns\u001b[39m\u001b[38;5;124m'\u001b[39m\u001b[38;5;124m or \u001b[39m\u001b[38;5;124m'\u001b[39m\u001b[38;5;124mtight\u001b[39m\u001b[38;5;124m'\u001b[39m\u001b[38;5;124m for orient parameter. \u001b[39m\u001b[38;5;124m\"\u001b[39m\n\u001b[1;32m   1756\u001b[0m         \u001b[38;5;124mf\u001b[39m\u001b[38;5;124m\"\u001b[39m\u001b[38;5;124mGot \u001b[39m\u001b[38;5;124m'\u001b[39m\u001b[38;5;132;01m{\u001b[39;00morient\u001b[38;5;132;01m}\u001b[39;00m\u001b[38;5;124m'\u001b[39m\u001b[38;5;124m instead\u001b[39m\u001b[38;5;124m\"\u001b[39m\n\u001b[1;32m   1757\u001b[0m     )\n\u001b[1;32m   1759\u001b[0m \u001b[38;5;28;01mif\u001b[39;00m orient \u001b[38;5;241m!=\u001b[39m \u001b[38;5;124m\"\u001b[39m\u001b[38;5;124mtight\u001b[39m\u001b[38;5;124m\"\u001b[39m:\n\u001b[0;32m-> 1760\u001b[0m     \u001b[38;5;28;01mreturn\u001b[39;00m \u001b[38;5;28;43mcls\u001b[39;49m\u001b[43m(\u001b[49m\u001b[43mdata\u001b[49m\u001b[43m,\u001b[49m\u001b[43m \u001b[49m\u001b[43mindex\u001b[49m\u001b[38;5;241;43m=\u001b[39;49m\u001b[43mindex\u001b[49m\u001b[43m,\u001b[49m\u001b[43m \u001b[49m\u001b[43mcolumns\u001b[49m\u001b[38;5;241;43m=\u001b[39;49m\u001b[43mcolumns\u001b[49m\u001b[43m,\u001b[49m\u001b[43m \u001b[49m\u001b[43mdtype\u001b[49m\u001b[38;5;241;43m=\u001b[39;49m\u001b[43mdtype\u001b[49m\u001b[43m)\u001b[49m\n\u001b[1;32m   1761\u001b[0m \u001b[38;5;28;01melse\u001b[39;00m:\n\u001b[1;32m   1762\u001b[0m     realdata \u001b[38;5;241m=\u001b[39m data[\u001b[38;5;124m\"\u001b[39m\u001b[38;5;124mdata\u001b[39m\u001b[38;5;124m\"\u001b[39m]\n",
      "File \u001b[0;32m~/Library/Caches/pypoetry/virtualenvs/exoscraper-SVNmoUzF-py3.9/lib/python3.9/site-packages/pandas/core/frame.py:709\u001b[0m, in \u001b[0;36mDataFrame.__init__\u001b[0;34m(self, data, index, columns, dtype, copy)\u001b[0m\n\u001b[1;32m    703\u001b[0m     mgr \u001b[38;5;241m=\u001b[39m \u001b[38;5;28mself\u001b[39m\u001b[38;5;241m.\u001b[39m_init_mgr(\n\u001b[1;32m    704\u001b[0m         data, axes\u001b[38;5;241m=\u001b[39m{\u001b[38;5;124m\"\u001b[39m\u001b[38;5;124mindex\u001b[39m\u001b[38;5;124m\"\u001b[39m: index, \u001b[38;5;124m\"\u001b[39m\u001b[38;5;124mcolumns\u001b[39m\u001b[38;5;124m\"\u001b[39m: columns}, dtype\u001b[38;5;241m=\u001b[39mdtype, copy\u001b[38;5;241m=\u001b[39mcopy\n\u001b[1;32m    705\u001b[0m     )\n\u001b[1;32m    707\u001b[0m \u001b[38;5;28;01melif\u001b[39;00m \u001b[38;5;28misinstance\u001b[39m(data, \u001b[38;5;28mdict\u001b[39m):\n\u001b[1;32m    708\u001b[0m     \u001b[38;5;66;03m# GH#38939 de facto copy defaults to False only in non-dict cases\u001b[39;00m\n\u001b[0;32m--> 709\u001b[0m     mgr \u001b[38;5;241m=\u001b[39m \u001b[43mdict_to_mgr\u001b[49m\u001b[43m(\u001b[49m\u001b[43mdata\u001b[49m\u001b[43m,\u001b[49m\u001b[43m \u001b[49m\u001b[43mindex\u001b[49m\u001b[43m,\u001b[49m\u001b[43m \u001b[49m\u001b[43mcolumns\u001b[49m\u001b[43m,\u001b[49m\u001b[43m \u001b[49m\u001b[43mdtype\u001b[49m\u001b[38;5;241;43m=\u001b[39;49m\u001b[43mdtype\u001b[49m\u001b[43m,\u001b[49m\u001b[43m \u001b[49m\u001b[43mcopy\u001b[49m\u001b[38;5;241;43m=\u001b[39;49m\u001b[43mcopy\u001b[49m\u001b[43m,\u001b[49m\u001b[43m \u001b[49m\u001b[43mtyp\u001b[49m\u001b[38;5;241;43m=\u001b[39;49m\u001b[43mmanager\u001b[49m\u001b[43m)\u001b[49m\n\u001b[1;32m    710\u001b[0m \u001b[38;5;28;01melif\u001b[39;00m \u001b[38;5;28misinstance\u001b[39m(data, ma\u001b[38;5;241m.\u001b[39mMaskedArray):\n\u001b[1;32m    711\u001b[0m     \u001b[38;5;28;01mfrom\u001b[39;00m \u001b[38;5;21;01mnumpy\u001b[39;00m\u001b[38;5;21;01m.\u001b[39;00m\u001b[38;5;21;01mma\u001b[39;00m \u001b[38;5;28;01mimport\u001b[39;00m mrecords\n",
      "File \u001b[0;32m~/Library/Caches/pypoetry/virtualenvs/exoscraper-SVNmoUzF-py3.9/lib/python3.9/site-packages/pandas/core/internals/construction.py:481\u001b[0m, in \u001b[0;36mdict_to_mgr\u001b[0;34m(data, index, columns, dtype, typ, copy)\u001b[0m\n\u001b[1;32m    477\u001b[0m     \u001b[38;5;28;01melse\u001b[39;00m:\n\u001b[1;32m    478\u001b[0m         \u001b[38;5;66;03m# dtype check to exclude e.g. range objects, scalars\u001b[39;00m\n\u001b[1;32m    479\u001b[0m         arrays \u001b[38;5;241m=\u001b[39m [x\u001b[38;5;241m.\u001b[39mcopy() \u001b[38;5;28;01mif\u001b[39;00m \u001b[38;5;28mhasattr\u001b[39m(x, \u001b[38;5;124m\"\u001b[39m\u001b[38;5;124mdtype\u001b[39m\u001b[38;5;124m\"\u001b[39m) \u001b[38;5;28;01melse\u001b[39;00m x \u001b[38;5;28;01mfor\u001b[39;00m x \u001b[38;5;129;01min\u001b[39;00m arrays]\n\u001b[0;32m--> 481\u001b[0m \u001b[38;5;28;01mreturn\u001b[39;00m \u001b[43marrays_to_mgr\u001b[49m\u001b[43m(\u001b[49m\u001b[43marrays\u001b[49m\u001b[43m,\u001b[49m\u001b[43m \u001b[49m\u001b[43mcolumns\u001b[49m\u001b[43m,\u001b[49m\u001b[43m \u001b[49m\u001b[43mindex\u001b[49m\u001b[43m,\u001b[49m\u001b[43m \u001b[49m\u001b[43mdtype\u001b[49m\u001b[38;5;241;43m=\u001b[39;49m\u001b[43mdtype\u001b[49m\u001b[43m,\u001b[49m\u001b[43m \u001b[49m\u001b[43mtyp\u001b[49m\u001b[38;5;241;43m=\u001b[39;49m\u001b[43mtyp\u001b[49m\u001b[43m,\u001b[49m\u001b[43m \u001b[49m\u001b[43mconsolidate\u001b[49m\u001b[38;5;241;43m=\u001b[39;49m\u001b[43mcopy\u001b[49m\u001b[43m)\u001b[49m\n",
      "File \u001b[0;32m~/Library/Caches/pypoetry/virtualenvs/exoscraper-SVNmoUzF-py3.9/lib/python3.9/site-packages/pandas/core/internals/construction.py:115\u001b[0m, in \u001b[0;36marrays_to_mgr\u001b[0;34m(arrays, columns, index, dtype, verify_integrity, typ, consolidate)\u001b[0m\n\u001b[1;32m    112\u001b[0m \u001b[38;5;28;01mif\u001b[39;00m verify_integrity:\n\u001b[1;32m    113\u001b[0m     \u001b[38;5;66;03m# figure out the index, if necessary\u001b[39;00m\n\u001b[1;32m    114\u001b[0m     \u001b[38;5;28;01mif\u001b[39;00m index \u001b[38;5;129;01mis\u001b[39;00m \u001b[38;5;28;01mNone\u001b[39;00m:\n\u001b[0;32m--> 115\u001b[0m         index \u001b[38;5;241m=\u001b[39m \u001b[43m_extract_index\u001b[49m\u001b[43m(\u001b[49m\u001b[43marrays\u001b[49m\u001b[43m)\u001b[49m\n\u001b[1;32m    116\u001b[0m     \u001b[38;5;28;01melse\u001b[39;00m:\n\u001b[1;32m    117\u001b[0m         index \u001b[38;5;241m=\u001b[39m ensure_index(index)\n",
      "File \u001b[0;32m~/Library/Caches/pypoetry/virtualenvs/exoscraper-SVNmoUzF-py3.9/lib/python3.9/site-packages/pandas/core/internals/construction.py:645\u001b[0m, in \u001b[0;36m_extract_index\u001b[0;34m(data)\u001b[0m\n\u001b[1;32m    642\u001b[0m         \u001b[38;5;28;01mraise\u001b[39;00m \u001b[38;5;167;01mValueError\u001b[39;00m(\u001b[38;5;124m\"\u001b[39m\u001b[38;5;124mPer-column arrays must each be 1-dimensional\u001b[39m\u001b[38;5;124m\"\u001b[39m)\n\u001b[1;32m    644\u001b[0m \u001b[38;5;28;01mif\u001b[39;00m \u001b[38;5;129;01mnot\u001b[39;00m indexes \u001b[38;5;129;01mand\u001b[39;00m \u001b[38;5;129;01mnot\u001b[39;00m raw_lengths:\n\u001b[0;32m--> 645\u001b[0m     \u001b[38;5;28;01mraise\u001b[39;00m \u001b[38;5;167;01mValueError\u001b[39;00m(\u001b[38;5;124m\"\u001b[39m\u001b[38;5;124mIf using all scalar values, you must pass an index\u001b[39m\u001b[38;5;124m\"\u001b[39m)\n\u001b[1;32m    647\u001b[0m \u001b[38;5;28;01mif\u001b[39;00m have_series:\n\u001b[1;32m    648\u001b[0m     index \u001b[38;5;241m=\u001b[39m union_indexes(indexes)\n",
      "\u001b[0;31mValueError\u001b[0m: If using all scalar values, you must pass an index"
     ]
    }
   ],
   "source": []
  },
  {
   "cell_type": "code",
   "execution_count": 290,
   "id": "7f9771e9-df48-4313-8fa9-dd6b8512d504",
   "metadata": {},
   "outputs": [
    {
     "data": {
      "text/latex": [
       "$2451659.9 \\; \\mathrm{d}$"
      ],
      "text/plain": [
       "<Quantity 2451659.93742 d>"
      ]
     },
     "execution_count": 290,
     "metadata": {},
     "output_type": "execute_result"
    }
   ],
   "source": [
    "self.pl_tranmid"
   ]
  },
  {
   "cell_type": "code",
   "execution_count": null,
   "id": "a51cbff6-0fda-40de-b7b6-2b570edf680f",
   "metadata": {},
   "outputs": [],
   "source": []
  },
  {
   "cell_type": "code",
   "execution_count": null,
   "id": "3843be60-711b-470d-a798-e5733f61f2ad",
   "metadata": {},
   "outputs": [],
   "source": []
  },
  {
   "cell_type": "code",
   "execution_count": null,
   "id": "f958c052-5e0b-4393-a832-eae96864dff2",
   "metadata": {},
   "outputs": [],
   "source": []
  },
  {
   "cell_type": "code",
   "execution_count": 265,
   "id": "1ef48c9e-b85e-4bef-b5e7-7e542c566d7d",
   "metadata": {},
   "outputs": [],
   "source": [
    "if np.isfinite(self.pl_rade) ^ np.isfinite(self.pl_radj):\n",
    "    if np.isfinite(self.pl_rade):\n",
    "        self.pl_radj = self.pl_rade.to(u.jupiterRad)\n",
    "        for e in ['err1', 'err2', 'err']:\n",
    "            if hasattr(self.pl_rade, e):\n",
    "                setattr(self.pl_radj, e, getattr(self.pl_rade, e).to(u.jupiterRad))        \n",
    "    else:\n",
    "        self.pl_rade = self.pl_radj.to(u.earthRad)\n",
    "        for e in ['err1', 'err2', 'err']:\n",
    "            if hasattr(self.pl_radj, e):\n",
    "                setattr(self.pl_rade, e, getattr(self.pl_radj, e).to(u.earthRad))\n",
    "        "
   ]
  },
  {
   "cell_type": "code",
   "execution_count": 268,
   "id": "d4575a11-bb5f-4b45-a919-9b475430470b",
   "metadata": {},
   "outputs": [
    {
     "ename": "AttributeError",
     "evalue": "'Quantity' object has no 'reference' member",
     "output_type": "error",
     "traceback": [
      "\u001b[0;31m---------------------------------------------------------------------------\u001b[0m",
      "\u001b[0;31mAttributeError\u001b[0m                            Traceback (most recent call last)",
      "Cell \u001b[0;32mIn[268], line 1\u001b[0m\n\u001b[0;32m----> 1\u001b[0m \u001b[38;5;28;43mself\u001b[39;49m\u001b[38;5;241;43m.\u001b[39;49m\u001b[43mpl_radj\u001b[49m\u001b[38;5;241;43m.\u001b[39;49m\u001b[43mreference\u001b[49m\n",
      "File \u001b[0;32m~/Library/Caches/pypoetry/virtualenvs/exoscraper-SVNmoUzF-py3.9/lib/python3.9/site-packages/astropy/units/quantity.py:1100\u001b[0m, in \u001b[0;36mQuantity.__getattr__\u001b[0;34m(self, attr)\u001b[0m\n\u001b[1;32m   1095\u001b[0m \u001b[38;5;250m\u001b[39m\u001b[38;5;124;03m\"\"\"\u001b[39;00m\n\u001b[1;32m   1096\u001b[0m \u001b[38;5;124;03mQuantities are able to directly convert to other units that\u001b[39;00m\n\u001b[1;32m   1097\u001b[0m \u001b[38;5;124;03mhave the same physical type.\u001b[39;00m\n\u001b[1;32m   1098\u001b[0m \u001b[38;5;124;03m\"\"\"\u001b[39;00m\n\u001b[1;32m   1099\u001b[0m \u001b[38;5;28;01mif\u001b[39;00m \u001b[38;5;129;01mnot\u001b[39;00m \u001b[38;5;28mself\u001b[39m\u001b[38;5;241m.\u001b[39m_include_easy_conversion_members:\n\u001b[0;32m-> 1100\u001b[0m     \u001b[38;5;28;01mraise\u001b[39;00m \u001b[38;5;167;01mAttributeError\u001b[39;00m(\n\u001b[1;32m   1101\u001b[0m         \u001b[38;5;124mf\u001b[39m\u001b[38;5;124m\"\u001b[39m\u001b[38;5;124m'\u001b[39m\u001b[38;5;132;01m{\u001b[39;00m\u001b[38;5;28mself\u001b[39m\u001b[38;5;241m.\u001b[39m\u001b[38;5;18m__class__\u001b[39m\u001b[38;5;241m.\u001b[39m\u001b[38;5;18m__name__\u001b[39m\u001b[38;5;132;01m}\u001b[39;00m\u001b[38;5;124m'\u001b[39m\u001b[38;5;124m object has no \u001b[39m\u001b[38;5;124m'\u001b[39m\u001b[38;5;132;01m{\u001b[39;00mattr\u001b[38;5;132;01m}\u001b[39;00m\u001b[38;5;124m'\u001b[39m\u001b[38;5;124m member\u001b[39m\u001b[38;5;124m\"\u001b[39m\n\u001b[1;32m   1102\u001b[0m     )\n\u001b[1;32m   1104\u001b[0m \u001b[38;5;28;01mdef\u001b[39;00m \u001b[38;5;21mget_virtual_unit_attribute\u001b[39m():\n\u001b[1;32m   1105\u001b[0m     registry \u001b[38;5;241m=\u001b[39m get_current_unit_registry()\u001b[38;5;241m.\u001b[39mregistry\n",
      "\u001b[0;31mAttributeError\u001b[0m: 'Quantity' object has no 'reference' member"
     ]
    }
   ],
   "source": []
  },
  {
   "cell_type": "code",
   "execution_count": 255,
   "id": "6c03ceba-bde0-460f-920f-62891a90727b",
   "metadata": {},
   "outputs": [
    {
     "data": {
      "text/latex": [
       "$93.52778 \\; \\mathrm{K}$"
      ],
      "text/plain": [
       "<Quantity 93.52777979 K>"
      ]
     },
     "execution_count": 255,
     "metadata": {},
     "output_type": "execute_result"
    }
   ],
   "source": [
    "self.pl_eqt"
   ]
  },
  {
   "cell_type": "code",
   "execution_count": 244,
   "id": "fd4ba683-e2b4-4a17-ba34-33f967d21838",
   "metadata": {},
   "outputs": [],
   "source": [
    "self.pl_bmassj *= np.nan"
   ]
  },
  {
   "cell_type": "code",
   "execution_count": 245,
   "id": "3355e85f-18fe-406e-989c-6b670c76ed71",
   "metadata": {},
   "outputs": [
    {
     "data": {
      "text/latex": [
       "$4780 \\; \\mathrm{K}$"
      ],
      "text/plain": [
       "<Quantity 4780. K>"
      ]
     },
     "execution_count": 245,
     "metadata": {},
     "output_type": "execute_result"
    }
   ],
   "source": [
    "self.st_teff"
   ]
  },
  {
   "cell_type": "code",
   "execution_count": 238,
   "id": "b192c1cf-379c-4d63-9637-484794588186",
   "metadata": {},
   "outputs": [
    {
     "data": {
      "text/latex": [
       "$97.290995 \\; \\mathrm{K}$"
      ],
      "text/plain": [
       "<Quantity 97.29099485 K>"
      ]
     },
     "execution_count": 238,
     "metadata": {},
     "output_type": "execute_result"
    }
   ],
   "source": []
  },
  {
   "cell_type": "code",
   "execution_count": null,
   "id": "f5b7ce23-705b-4e93-943d-ffb21e91d83f",
   "metadata": {},
   "outputs": [],
   "source": []
  },
  {
   "cell_type": "code",
   "execution_count": 216,
   "id": "bb698614-3f8e-424f-bd60-dc379ffdfb81",
   "metadata": {},
   "outputs": [
    {
     "data": {
      "text/latex": [
       "$731.009 \\; \\mathrm{M_{\\oplus}}$"
      ],
      "text/plain": [
       "<Quantity 731.009 earthMass>"
      ]
     },
     "execution_count": 216,
     "metadata": {},
     "output_type": "execute_result"
    }
   ],
   "source": [
    "self.pl_bmasse"
   ]
  },
  {
   "cell_type": "code",
   "execution_count": 217,
   "id": "bcc40f03-8368-4fb5-8e82-e37f26ee8fc2",
   "metadata": {},
   "outputs": [],
   "source": [
    "if np.isfinite(self.pl_bmasse) ^ np.isfinite(self.pl_bmassj):\n",
    "    if np.isfinite(self.pl_bmasse):\n",
    "        self.pl_bmassj = self.pl_bmasse.to(u.jupiterMass)\n",
    "        for e in ['err1', 'err2', 'err']:\n",
    "            if hasattr(self.pl_bmasse, e):\n",
    "                setattr(self.pl_bmassj, e, getattr(self.pl_bmasse, e).to(u.jupiterMass))\n",
    "        self.pl_bmassj.reference = self.pl_bmasse.reference\n",
    "    else:\n",
    "        self.pl_bmasse = self.pl_bmassj.to(u.earthMass)\n",
    "        for e in ['err1', 'err2', 'err']:\n",
    "            if hasattr(self.pl_bmassj, e):\n",
    "                setattr(self.pl_bmasse, e, getattr(self.pl_bmassj, e).to(u.earthMass))\n",
    "        self.pl_bmasse.reference = self.pl_bmassj.reference\n",
    "    "
   ]
  },
  {
   "cell_type": "code",
   "execution_count": 219,
   "id": "2d8c8abc-a40f-4f8f-a4b9-659e82453936",
   "metadata": {},
   "outputs": [
    {
     "data": {
      "text/latex": [
       "$2.3000115 \\; \\mathrm{M_{\\rm J}}$"
      ],
      "text/plain": [
       "<Quantity 2.30001153 jupiterMass>"
      ]
     },
     "execution_count": 219,
     "metadata": {},
     "output_type": "execute_result"
    }
   ],
   "source": []
  },
  {
   "cell_type": "code",
   "execution_count": 189,
   "id": "378d6ab5-0e37-4f4c-8223-c17dcd94df60",
   "metadata": {},
   "outputs": [],
   "source": []
  },
  {
   "cell_type": "code",
   "execution_count": 125,
   "id": "0392756c-c767-4fec-90c0-3ec74d94d05e",
   "metadata": {},
   "outputs": [
    {
     "data": {
      "text/latex": [
       "${\\rm NaN} \\; \\mathrm{}$"
      ],
      "text/plain": [
       "<Quantity nan>"
      ]
     },
     "execution_count": 125,
     "metadata": {},
     "output_type": "execute_result"
    }
   ],
   "source": [
    "p.pl_ratdor"
   ]
  },
  {
   "cell_type": "code",
   "execution_count": 122,
   "id": "27bf0319-b6e1-43f3-9161-e656f5ed141f",
   "metadata": {},
   "outputs": [
    {
     "data": {
      "text/latex": [
       "$1306.0041 \\; \\mathrm{}$"
      ],
      "text/plain": [
       "<Quantity 1306.00412194>"
      ]
     },
     "execution_count": 122,
     "metadata": {},
     "output_type": "execute_result"
    }
   ],
   "source": [
    "q"
   ]
  },
  {
   "cell_type": "code",
   "execution_count": 86,
   "id": "9e286de8-f0a7-4a94-a744-1ec4a9329975",
   "metadata": {},
   "outputs": [
    {
     "data": {
      "text/latex": [
       "$4.13 \\; \\mathrm{AU}$"
      ],
      "text/plain": [
       "<Quantity 4.13 AU>"
      ]
     },
     "execution_count": 86,
     "metadata": {},
     "output_type": "execute_result"
    }
   ],
   "source": [
    "p.pl_orbsmax"
   ]
  },
  {
   "cell_type": "code",
   "execution_count": 90,
   "id": "6f52b67f-e856-4951-b5d4-d711801dd3d5",
   "metadata": {},
   "outputs": [
    {
     "ename": "AttributeError",
     "evalue": "'Planet' object has no attribute 'pl_orb'",
     "output_type": "error",
     "traceback": [
      "\u001b[0;31m---------------------------------------------------------------------------\u001b[0m",
      "\u001b[0;31mAttributeError\u001b[0m                            Traceback (most recent call last)",
      "Cell \u001b[0;32mIn[90], line 1\u001b[0m\n\u001b[0;32m----> 1\u001b[0m \u001b[43mp\u001b[49m\u001b[38;5;241;43m.\u001b[39;49m\u001b[43mpl_orb\u001b[49m\n",
      "\u001b[0;31mAttributeError\u001b[0m: 'Planet' object has no attribute 'pl_orb'"
     ]
    }
   ],
   "source": [
    "p.pl_orb"
   ]
  },
  {
   "cell_type": "code",
   "execution_count": 139,
   "id": "6dc687d6-425f-49e3-85bd-1df4a364425b",
   "metadata": {},
   "outputs": [],
   "source": []
  },
  {
   "cell_type": "code",
   "execution_count": 152,
   "id": "303e4746-9234-447e-842b-8f2216285e36",
   "metadata": {},
   "outputs": [
    {
     "data": {
      "text/latex": [
       "$6.5344681 \\; \\mathrm{AU}$"
      ],
      "text/plain": [
       "<MaskedQuantity 6.53446814 AU>"
      ]
     },
     "execution_count": 152,
     "metadata": {},
     "output_type": "execute_result"
    }
   ],
   "source": []
  },
  {
   "cell_type": "code",
   "execution_count": 153,
   "id": "2e6d9012-4107-498b-8ac2-d1b10008591b",
   "metadata": {},
   "outputs": [
    {
     "data": {
      "text/latex": [
       "$5.7497626 \\; \\mathrm{AU}$"
      ],
      "text/plain": [
       "<MaskedQuantity 5.74976261 AU>"
      ]
     },
     "execution_count": 153,
     "metadata": {},
     "output_type": "execute_result"
    }
   ],
   "source": []
  },
  {
   "cell_type": "code",
   "execution_count": 68,
   "id": "d5a9aecb-9436-47b8-a61a-0af51c7a037c",
   "metadata": {},
   "outputs": [
    {
     "data": {
      "text/latex": [
       "$3132 \\; \\mathrm{d}$"
      ],
      "text/plain": [
       "<Quantity 3132. d>"
      ]
     },
     "execution_count": 68,
     "metadata": {},
     "output_type": "execute_result"
    }
   ],
   "source": []
  },
  {
   "cell_type": "code",
   "execution_count": 42,
   "id": "8a25bb23-155f-4e93-9bec-159e756331ec",
   "metadata": {},
   "outputs": [
    {
     "data": {
      "text/latex": [
       "$0.025 \\; \\mathrm{Msun}$"
      ],
      "text/plain": [
       "<Quantity 0.025 Msun>"
      ]
     },
     "execution_count": 42,
     "metadata": {},
     "output_type": "execute_result"
    }
   ],
   "source": [
    "p.st_mass.err"
   ]
  },
  {
   "cell_type": "code",
   "execution_count": 45,
   "id": "43f371da-0800-47b2-a44c-391577f62a4c",
   "metadata": {},
   "outputs": [
    {
     "data": {
      "text/latex": [
       "$275 \\; \\mathrm{d}$"
      ],
      "text/plain": [
       "<Quantity 275. d>"
      ]
     },
     "execution_count": 45,
     "metadata": {},
     "output_type": "execute_result"
    }
   ],
   "source": [
    "p.pl_orbper.err"
   ]
  },
  {
   "cell_type": "code",
   "execution_count": null,
   "id": "d75a1372-5352-4f43-aaa0-4814d8e60ed9",
   "metadata": {},
   "outputs": [],
   "source": [
    "p.pl_eqt"
   ]
  },
  {
   "cell_type": "code",
   "execution_count": 65,
   "id": "2890db82-e042-49ff-9ffd-0dd852d6fbed",
   "metadata": {},
   "outputs": [
    {
     "name": "stderr",
     "output_type": "stream",
     "text": [
      "/var/folders/bv/0t7fjlgx0mx3_3bdhxqzd7bmh_67k0/T/ipykernel_12147/3898938082.py:1: RuntimeWarning: invalid value encountered in cast\n",
      "  np.round(np.log10(p.pl_orbper.err.value)).astype(int)\n"
     ]
    },
    {
     "data": {
      "text/plain": [
       "0"
      ]
     },
     "execution_count": 65,
     "metadata": {},
     "output_type": "execute_result"
    }
   ],
   "source": [
    "np.round(np.log10(p.pl_orbper.err.value)).astype(int)"
   ]
  },
  {
   "cell_type": "code",
   "execution_count": null,
   "id": "3ddebf37-618b-4ebd-b066-d922125c4026",
   "metadata": {},
   "outputs": [],
   "source": [
    "p.pl_bmassj.err"
   ]
  },
  {
   "cell_type": "code",
   "execution_count": 451,
   "id": "4c988490-18b9-4eae-ba80-2619d70da985",
   "metadata": {},
   "outputs": [
    {
     "data": {
      "text/plain": [
       "dict_keys(['TICv8', 'Hartman et al. 2011', 'ExoFOP-TESS TOI', 'Bonomo et al. 2017'])"
      ]
     },
     "execution_count": 451,
     "metadata": {},
     "output_type": "execute_result"
    }
   ],
   "source": [
    "p.references.keys()"
   ]
  },
  {
   "cell_type": "code",
   "execution_count": 129,
   "id": "712082a5-c829-46c2-b08a-5457adea3c7f",
   "metadata": {},
   "outputs": [
    {
     "data": {
      "text/plain": [
       "['This research has made use of the NASA Exoplanet Archive, which is operated by the California Institute of Technology, under contract with the National Aeronautics and Space Administration under the Exoplanet Exploration Program.']"
      ]
     },
     "execution_count": 129,
     "metadata": {},
     "output_type": "execute_result"
    }
   ],
   "source": [
    "p.acknowledgements"
   ]
  },
  {
   "cell_type": "code",
   "execution_count": null,
   "id": "d21266a1-22fe-419f-bafb-690ca168667a",
   "metadata": {},
   "outputs": [],
   "source": []
  },
  {
   "cell_type": "code",
   "execution_count": null,
   "id": "a2d67174-b5d5-4e7a-9a9d-8a205b43a324",
   "metadata": {},
   "outputs": [],
   "source": []
  },
  {
   "cell_type": "code",
   "execution_count": 53,
   "id": "df067161-c3e5-4c76-9b89-30a71f7b525d",
   "metadata": {},
   "outputs": [
    {
     "data": {
      "text/plain": [
       "True"
      ]
     },
     "execution_count": 53,
     "metadata": {},
     "output_type": "execute_result"
    }
   ],
   "source": [
    "np.issubdtype(type('christina'), str)"
   ]
  },
  {
   "cell_type": "code",
   "execution_count": 62,
   "id": "ba9059ba-aa74-4f34-a79b-5d04b24971af",
   "metadata": {},
   "outputs": [
    {
     "data": {
      "text/plain": [
       "True"
      ]
     },
     "execution_count": 62,
     "metadata": {},
     "output_type": "execute_result"
    }
   ],
   "source": []
  },
  {
   "cell_type": "code",
   "execution_count": null,
   "id": "516c2832-c2d0-4ebb-9900-64f0900f05e3",
   "metadata": {},
   "outputs": [],
   "source": []
  }
 ],
 "metadata": {
  "kernelspec": {
   "display_name": "Python 3 (ipykernel)",
   "language": "python",
   "name": "python3"
  },
  "language_info": {
   "codemirror_mode": {
    "name": "ipython",
    "version": 3
   },
   "file_extension": ".py",
   "mimetype": "text/x-python",
   "name": "python",
   "nbconvert_exporter": "python",
   "pygments_lexer": "ipython3",
   "version": "3.9.13"
  }
 },
 "nbformat": 4,
 "nbformat_minor": 5
}
