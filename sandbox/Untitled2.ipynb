{
 "cells": [
  {
   "cell_type": "code",
   "execution_count": 193,
   "id": "bad9a1ad-a981-49ae-af65-8f59093be84e",
   "metadata": {},
   "outputs": [],
   "source": [
    "import base64\n",
    "\n",
    "import matplotlib.pyplot as plt\n",
    "from IPython.display import Image, display\n",
    "\n",
    "\n",
    "def mm(graph):\n",
    "    graphbytes = graph.encode(\"ascii\")\n",
    "    base64_bytes = base64.b64encode(graphbytes)\n",
    "    base64_string = base64_bytes.decode(\"ascii\")\n",
    "    display(Image(url=\"https://mermaid.ink/svg/\" + base64_string, retina=True))"
   ]
  },
  {
   "cell_type": "code",
   "execution_count": 194,
   "id": "e32c0b07-9e90-42c3-a5f9-390fac5ae973",
   "metadata": {},
   "outputs": [],
   "source": [
    "diagram = \"\"\"gantt\n",
    "    title Commissioning Plan\n",
    "    dateFormat  YYYY-MM-DD\n",
    "\n",
    "\n",
    "    section Instrument Checkout\n",
    "    Commissioning Begins: milestone, 2026-06-01, 0d\n",
    "    Checkout:  checkout1, 2026-06-01, 7d\n",
    "    \n",
    "    section Estimate Sky Background\n",
    "    First Light Images:  firstlight1, after checkout1, 1d\n",
    "    Coarse Pointing Background Map:  bkgmap1, after firstlight1, 3d\n",
    "    Coarse Pointing Background Map:  bkgmap2, after pointing1, 3d\n",
    "\n",
    "    section Pointing\n",
    "    Obtain Pointing Data:  pointing1, after bkgmap1, 12h\n",
    "    Update Pointing Solution:  active, pointing2, after pointing1, 3d\n",
    "\n",
    "    section First Light Science\n",
    "\n",
    "    Science Begins: milestone, 2026-07-01, 0d\n",
    "\n",
    "\"\"\""
   ]
  },
  {
   "cell_type": "code",
   "execution_count": 195,
   "id": "78482055-7b6c-444e-a01b-804c2a5c5784",
   "metadata": {},
   "outputs": [
    {
     "data": {
      "text/html": [
       "<img src=\"https://mermaid.ink/svg/Z2FudHQKICAgIHRpdGxlIENvbW1pc3Npb25pbmcgUGxhbgogICAgZGF0ZUZvcm1hdCAgWVlZWS1NTS1ERAoKCiAgICBzZWN0aW9uIEluc3RydW1lbnQgQ2hlY2tvdXQKICAgIENvbW1pc3Npb25pbmcgQmVnaW5zOiBtaWxlc3RvbmUsIDIwMjYtMDYtMDEsIDBkCiAgICBDaGVja291dDogIGNoZWNrb3V0MSwgMjAyNi0wNi0wMSwgN2QKICAgIAogICAgc2VjdGlvbiBFc3RpbWF0ZSBTa3kgQmFja2dyb3VuZAogICAgRmlyc3QgTGlnaHQgSW1hZ2VzOiAgZmlyc3RsaWdodDEsIGFmdGVyIGNoZWNrb3V0MSwgMWQKICAgIENvYXJzZSBQb2ludGluZyBCYWNrZ3JvdW5kIE1hcDogIGJrZ21hcDEsIGFmdGVyIGZpcnN0bGlnaHQxLCAzZAogICAgQ29hcnNlIFBvaW50aW5nIEJhY2tncm91bmQgTWFwOiAgYmtnbWFwMiwgYWZ0ZXIgcG9pbnRpbmcxLCAzZAoKICAgIHNlY3Rpb24gUG9pbnRpbmcKICAgIE9idGFpbiBQb2ludGluZyBEYXRhOiAgcG9pbnRpbmcxLCBhZnRlciBia2dtYXAxLCAxMmgKICAgIFVwZGF0ZSBQb2ludGluZyBTb2x1dGlvbjogIGFjdGl2ZSwgcG9pbnRpbmcyLCBhZnRlciBwb2ludGluZzEsIDNkCgogICAgc2VjdGlvbiBGaXJzdCBMaWdodCBTY2llbmNlCgogICAgU2NpZW5jZSBCZWdpbnM6IG1pbGVzdG9uZSwgMjAyNi0wNy0wMSwgMGQKCg==\"/>"
      ],
      "text/plain": [
       "<IPython.core.display.Image object>"
      ]
     },
     "metadata": {},
     "output_type": "display_data"
    }
   ],
   "source": [
    "mm(diagram)"
   ]
  },
  {
   "cell_type": "code",
   "execution_count": 196,
   "id": "15f54ccc-ea28-40c0-95a7-0a37e8478a5f",
   "metadata": {},
   "outputs": [],
   "source": [
    "diagram = \"\"\"gantt\n",
    "    title Commissioning Plan\n",
    "    dateFormat  YYYY-MM-DD\n",
    "\n",
    "\n",
    "    section Spacecraft Data Collection\n",
    "    Commissioning Begins: milestone, 2026-06-01, 0d\n",
    "\n",
    "    Checkout Tests:  checkout1, 2026-06-01, 7d\n",
    "    Coarse Pointing Background Map:  coarsebkgmap1, after checkout1, 12h\n",
    "    Obtain Pointing Solution Data:  pointing1, after coarsebkgmap1, 12h\n",
    "    Fine Background Map:  bkgmap1, after pointing1, 3d\n",
    "    Obtain Pointing Solution Data:  repointing1, after pointingalgorithm, 12h\n",
    "    Obtain Pointing Solution Data:  repointing2, after pointingalgorithm2, 12h\n",
    "    Obtain Persistence Data:  persistence1, after pointingalgorithm3, 12h\n",
    "    Obtain Flatfield Data:  flat1, after persistence1, 24h\n",
    "    Obtain Benchmark Spectra:  spectra1, after flat1, 48h\n",
    "    \n",
    "    \n",
    "    section DPC + LLNL Activities\n",
    "    Checkout Tests:  active, checkout2, 2026-06-01, 7d\n",
    "    Analyze Coarse Background Map:  active, bkgmap2, after checkout1, 1d\n",
    "    Build Distortion Solution:  active, pointing2, after pointing1, 3d\n",
    "    Update Onboard Pointing Algorithm:  active, pointingalgorithm, after pointing2, 3d\n",
    "    Analyze Fine Background Map:  active, bkgmap3, after pointing2, 3d\n",
    "    Verify and Update Onboard Pointing Algorithm:  active, pointingalgorithm2, after repointing1, 12h\n",
    "    Verify and Update Onboard Pointing Algorithm:  active, pointingalgorithm3, after repointing2, 12h\n",
    "    Build Calibration Data:  active, calibration1, after persistence1, 5d\n",
    "\n",
    "    \n",
    "    Science Begins: milestone, 2026-07-01, 0d\n",
    "\n",
    "\"\"\""
   ]
  },
  {
   "cell_type": "code",
   "execution_count": 197,
   "id": "f04ae3aa-14a6-42e6-95da-c8affeea213d",
   "metadata": {},
   "outputs": [
    {
     "data": {
      "text/html": [
       "<img src=\"https://mermaid.ink/svg/Z2FudHQKICAgIHRpdGxlIENvbW1pc3Npb25pbmcgUGxhbgogICAgZGF0ZUZvcm1hdCAgWVlZWS1NTS1ERAoKCiAgICBzZWN0aW9uIFNwYWNlY3JhZnQgRGF0YSBDb2xsZWN0aW9uCiAgICBDb21taXNzaW9uaW5nIEJlZ2luczogbWlsZXN0b25lLCAyMDI2LTA2LTAxLCAwZAoKICAgIENoZWNrb3V0IFRlc3RzOiAgY2hlY2tvdXQxLCAyMDI2LTA2LTAxLCA3ZAogICAgQ29hcnNlIFBvaW50aW5nIEJhY2tncm91bmQgTWFwOiAgY29hcnNlYmtnbWFwMSwgYWZ0ZXIgY2hlY2tvdXQxLCAxMmgKICAgIE9idGFpbiBQb2ludGluZyBTb2x1dGlvbiBEYXRhOiAgcG9pbnRpbmcxLCBhZnRlciBjb2Fyc2Via2dtYXAxLCAxMmgKICAgIEZpbmUgQmFja2dyb3VuZCBNYXA6ICBia2dtYXAxLCBhZnRlciBwb2ludGluZzEsIDNkCiAgICBPYnRhaW4gUG9pbnRpbmcgU29sdXRpb24gRGF0YTogIHJlcG9pbnRpbmcxLCBhZnRlciBwb2ludGluZ2FsZ29yaXRobSwgMTJoCiAgICBPYnRhaW4gUG9pbnRpbmcgU29sdXRpb24gRGF0YTogIHJlcG9pbnRpbmcyLCBhZnRlciBwb2ludGluZ2FsZ29yaXRobTIsIDEyaAogICAgT2J0YWluIFBlcnNpc3RlbmNlIERhdGE6ICBwZXJzaXN0ZW5jZTEsIGFmdGVyIHBvaW50aW5nYWxnb3JpdGhtMywgMTJoCiAgICBPYnRhaW4gRmxhdGZpZWxkIERhdGE6ICBmbGF0MSwgYWZ0ZXIgcGVyc2lzdGVuY2UxLCAyNGgKICAgIE9idGFpbiBCZW5jaG1hcmsgU3BlY3RyYTogIHNwZWN0cmExLCBhZnRlciBmbGF0MSwgNDhoCiAgICAKICAgIAogICAgc2VjdGlvbiBEUEMgKyBMTE5MIEFjdGl2aXRpZXMKICAgIENoZWNrb3V0IFRlc3RzOiAgYWN0aXZlLCBjaGVja291dDIsIDIwMjYtMDYtMDEsIDdkCiAgICBBbmFseXplIENvYXJzZSBCYWNrZ3JvdW5kIE1hcDogIGFjdGl2ZSwgYmtnbWFwMiwgYWZ0ZXIgY2hlY2tvdXQxLCAxZAogICAgQnVpbGQgRGlzdG9ydGlvbiBTb2x1dGlvbjogIGFjdGl2ZSwgcG9pbnRpbmcyLCBhZnRlciBwb2ludGluZzEsIDNkCiAgICBVcGRhdGUgT25ib2FyZCBQb2ludGluZyBBbGdvcml0aG06ICBhY3RpdmUsIHBvaW50aW5nYWxnb3JpdGhtLCBhZnRlciBwb2ludGluZzIsIDNkCiAgICBBbmFseXplIEZpbmUgQmFja2dyb3VuZCBNYXA6ICBhY3RpdmUsIGJrZ21hcDMsIGFmdGVyIHBvaW50aW5nMiwgM2QKICAgIFZlcmlmeSBhbmQgVXBkYXRlIE9uYm9hcmQgUG9pbnRpbmcgQWxnb3JpdGhtOiAgYWN0aXZlLCBwb2ludGluZ2FsZ29yaXRobTIsIGFmdGVyIHJlcG9pbnRpbmcxLCAxMmgKICAgIFZlcmlmeSBhbmQgVXBkYXRlIE9uYm9hcmQgUG9pbnRpbmcgQWxnb3JpdGhtOiAgYWN0aXZlLCBwb2ludGluZ2FsZ29yaXRobTMsIGFmdGVyIHJlcG9pbnRpbmcyLCAxMmgKICAgIEJ1aWxkIENhbGlicmF0aW9uIERhdGE6ICBhY3RpdmUsIGNhbGlicmF0aW9uMSwgYWZ0ZXIgcGVyc2lzdGVuY2UxLCA1ZAoKICAgIAogICAgU2NpZW5jZSBCZWdpbnM6IG1pbGVzdG9uZSwgMjAyNi0wNy0wMSwgMGQKCg==\"/>"
      ],
      "text/plain": [
       "<IPython.core.display.Image object>"
      ]
     },
     "metadata": {},
     "output_type": "display_data"
    }
   ],
   "source": [
    "mm(diagram)"
   ]
  },
  {
   "cell_type": "code",
   "execution_count": null,
   "id": "edc6f045-16ff-4ea6-a008-f40a640c3024",
   "metadata": {},
   "outputs": [],
   "source": []
  },
  {
   "cell_type": "code",
   "execution_count": null,
   "id": "0b89e0ee-c650-462b-b930-eb8f3336b687",
   "metadata": {},
   "outputs": [],
   "source": []
  }
 ],
 "metadata": {
  "kernelspec": {
   "display_name": "Python 3 (ipykernel)",
   "language": "python",
   "name": "python3"
  },
  "language_info": {
   "codemirror_mode": {
    "name": "ipython",
    "version": 3
   },
   "file_extension": ".py",
   "mimetype": "text/x-python",
   "name": "python",
   "nbconvert_exporter": "python",
   "pygments_lexer": "ipython3",
   "version": "3.9.13"
  }
 },
 "nbformat": 4,
 "nbformat_minor": 5
}
